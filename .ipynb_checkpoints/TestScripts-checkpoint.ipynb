{
 "cells": [
  {
   "cell_type": "code",
   "execution_count": 1,
   "metadata": {},
   "outputs": [],
   "source": [
    "import pandas as pd\n",
    "import numpy as np\n",
    "from src import format\n",
    "import string\n",
    "from src.model import ChurnModel\n",
    "pd.set_option('display.max_columns', 500)\n",
    "pd.set_option('display.width', 1000)\n",
    "from src import model as m\n",
    "from src.clusters import KMeans"
   ]
  },
  {
   "cell_type": "code",
   "execution_count": 2,
   "metadata": {},
   "outputs": [],
   "source": [
    "import matplotlib\n",
    "matplotlib.use(\"TkAgg\")\n",
    "from matplotlib import pyplot as plt\n",
    "%matplotlib inline"
   ]
  },
  {
   "cell_type": "code",
   "execution_count": 3,
   "metadata": {},
   "outputs": [],
   "source": [
    "import csv\n",
    "import random\n",
    "import pickle"
   ]
  },
  {
   "cell_type": "code",
   "execution_count": 4,
   "metadata": {},
   "outputs": [],
   "source": [
    "clubs = format.clean_data()\n",
    "format.get_test_train_set(clubs)"
   ]
  },
  {
   "cell_type": "code",
   "execution_count": 5,
   "metadata": {},
   "outputs": [],
   "source": [
    "clubs_train = pd.read_csv('../train_set.csv')\n",
    "clubs_test = pd.read_csv('../test_set.csv')"
   ]
  },
  {
   "cell_type": "code",
   "execution_count": 6,
   "metadata": {},
   "outputs": [],
   "source": [
    "cols = ['Age','ASP','Club Length','Quarter Case','isPickup','Time Since Last Order','Orders Total','Last Order Amount']\n"
   ]
  },
  {
   "cell_type": "code",
   "execution_count": 7,
   "metadata": {},
   "outputs": [],
   "source": [
    "cm = ChurnModel(cols)"
   ]
  },
  {
   "cell_type": "markdown",
   "metadata": {},
   "source": [
    "**TODO: Log the prices**"
   ]
  },
  {
   "cell_type": "code",
   "execution_count": 191,
   "metadata": {},
   "outputs": [
    {
     "name": "stderr",
     "output_type": "stream",
     "text": [
      "/Users/philsalazar/anaconda3/envs/testenv/lib/python3.6/site-packages/sklearn/linear_model/logistic.py:433: FutureWarning: Default solver will be changed to 'lbfgs' in 0.22. Specify a solver to silence this warning.\n",
      "  FutureWarning)\n"
     ]
    }
   ],
   "source": [
    "cm.fit_a_model(clubs_train)"
   ]
  },
  {
   "cell_type": "code",
   "execution_count": 192,
   "metadata": {},
   "outputs": [],
   "source": [
    "m.get_pickle(cm)\n",
    "cm_test = pickle.load(open('model.p','rb'))"
   ]
  },
  {
   "cell_type": "code",
   "execution_count": 193,
   "metadata": {},
   "outputs": [
    {
     "name": "stderr",
     "output_type": "stream",
     "text": [
      "/Users/philsalazar/anaconda3/envs/testenv/lib/python3.6/site-packages/sklearn/linear_model/logistic.py:433: FutureWarning: Default solver will be changed to 'lbfgs' in 0.22. Specify a solver to silence this warning.\n",
      "  FutureWarning)\n",
      "/Users/philsalazar/anaconda3/envs/testenv/lib/python3.6/site-packages/sklearn/linear_model/logistic.py:433: FutureWarning: Default solver will be changed to 'lbfgs' in 0.22. Specify a solver to silence this warning.\n",
      "  FutureWarning)\n",
      "/Users/philsalazar/anaconda3/envs/testenv/lib/python3.6/site-packages/sklearn/linear_model/logistic.py:433: FutureWarning: Default solver will be changed to 'lbfgs' in 0.22. Specify a solver to silence this warning.\n",
      "  FutureWarning)\n",
      "/Users/philsalazar/anaconda3/envs/testenv/lib/python3.6/site-packages/sklearn/linear_model/logistic.py:433: FutureWarning: Default solver will be changed to 'lbfgs' in 0.22. Specify a solver to silence this warning.\n",
      "  FutureWarning)\n",
      "/Users/philsalazar/anaconda3/envs/testenv/lib/python3.6/site-packages/sklearn/linear_model/logistic.py:433: FutureWarning: Default solver will be changed to 'lbfgs' in 0.22. Specify a solver to silence this warning.\n",
      "  FutureWarning)\n"
     ]
    }
   ],
   "source": [
    "yhat,probas,score,cv_scores = cm_test.get_predictions(clubs_test,clubs_train)"
   ]
  },
  {
   "cell_type": "code",
   "execution_count": 194,
   "metadata": {},
   "outputs": [
    {
     "data": {
      "text/plain": [
       "0.7906976744186046"
      ]
     },
     "execution_count": 194,
     "metadata": {},
     "output_type": "execute_result"
    }
   ],
   "source": [
    "score"
   ]
  },
  {
   "cell_type": "code",
   "execution_count": 195,
   "metadata": {},
   "outputs": [
    {
     "data": {
      "text/plain": [
       "array([0.75393419, 0.75250358, 0.76934097, 0.7733142 , 0.76757532])"
      ]
     },
     "execution_count": 195,
     "metadata": {},
     "output_type": "execute_result"
    }
   ],
   "source": [
    "cv_scores"
   ]
  },
  {
   "cell_type": "code",
   "execution_count": 196,
   "metadata": {},
   "outputs": [
    {
     "data": {
      "image/png": "[encoded data removed]",
      "text/plain": [
       "<Figure size 432x288 with 1 Axes>"
      ]
     },
     "metadata": {
      "needs_background": "light"
     },
     "output_type": "display_data"
    }
   ],
   "source": [
    "auc = cm_test.get_roc_curve(probas[:,1])"
   ]
  },
  {
   "cell_type": "code",
   "execution_count": 197,
   "metadata": {},
   "outputs": [
    {
     "data": {
      "text/plain": [
       "0.8645028481191134"
      ]
     },
     "execution_count": 197,
     "metadata": {},
     "output_type": "execute_result"
    }
   ],
   "source": [
    "auc[0]"
   ]
  },
  {
   "cell_type": "markdown",
   "metadata": {},
   "source": [
    "**Next, do same with RF**"
   ]
  },
  {
   "cell_type": "code",
   "execution_count": 198,
   "metadata": {},
   "outputs": [
    {
     "name": "stderr",
     "output_type": "stream",
     "text": [
      "/Users/philsalazar/anaconda3/envs/testenv/lib/python3.6/site-packages/sklearn/ensemble/forest.py:246: FutureWarning: The default value of n_estimators will change from 10 in version 0.20 to 100 in 0.22.\n",
      "  \"10 in version 0.20 to 100 in 0.22.\", FutureWarning)\n"
     ]
    }
   ],
   "source": [
    "cm.fit_random_forest(clubs_train)\n",
    "m.get_pickle(cm)\n",
    "cm_test = pickle.load(open('model.p','rb'))"
   ]
  },
  {
   "cell_type": "code",
   "execution_count": 199,
   "metadata": {},
   "outputs": [],
   "source": [
    "yhat,probas,score,cv_scores = cm_test.get_predictions(clubs_test,clubs_train)"
   ]
  },
  {
   "cell_type": "code",
   "execution_count": 200,
   "metadata": {},
   "outputs": [
    {
     "data": {
      "text/plain": [
       "array([0.91416309, 0.91273247, 0.9269341 , 0.90961263, 0.91822095])"
      ]
     },
     "execution_count": 200,
     "metadata": {},
     "output_type": "execute_result"
    }
   ],
   "source": [
    "cv_scores"
   ]
  },
  {
   "cell_type": "code",
   "execution_count": 201,
   "metadata": {},
   "outputs": [
    {
     "data": {
      "text/plain": [
       "0.9121447028423773"
      ]
     },
     "execution_count": 201,
     "metadata": {},
     "output_type": "execute_result"
    }
   ],
   "source": [
    "score"
   ]
  },
  {
   "cell_type": "markdown",
   "metadata": {},
   "source": [
    "**Next, do same with GradientBoostingClassifier**"
   ]
  },
  {
   "cell_type": "code",
   "execution_count": 202,
   "metadata": {},
   "outputs": [],
   "source": [
    "cols = ['Age','ASP','Club Length','Quarter Case','isPickup','Time Since Last Order','Orders Total','Last Order Amount']"
   ]
  },
  {
   "cell_type": "code",
   "execution_count": 10,
   "metadata": {},
   "outputs": [],
   "source": [
    "dropcols = ['Club Tier','Cancel Reason','Customer ID','State', 'Zip','Club Status','Above Mean Club Length']"
   ]
  },
  {
   "cell_type": "code",
   "execution_count": 204,
   "metadata": {},
   "outputs": [],
   "source": [
    "cols_gd = list(set(list(clubs_train.columns)) - set(dropcols))"
   ]
  },
  {
   "cell_type": "code",
   "execution_count": 205,
   "metadata": {},
   "outputs": [
    {
     "data": {
      "text/plain": [
       "['Average Transaction',\n",
       " 'Club Length',\n",
       " 'Last Order Amount',\n",
       " 'Time Since Last Order',\n",
       " 'Full Case',\n",
       " 'Transactions',\n",
       " 'Target',\n",
       " 'Age',\n",
       " 'Quarter Case',\n",
       " 'Quantity',\n",
       " 'isPickup',\n",
       " 'Shipments',\n",
       " 'Orders Total',\n",
       " 'LTV',\n",
       " 'Half Case',\n",
       " 'ASP']"
      ]
     },
     "execution_count": 205,
     "metadata": {},
     "output_type": "execute_result"
    }
   ],
   "source": [
    "cols_gd"
   ]
  },
  {
   "cell_type": "code",
   "execution_count": 206,
   "metadata": {},
   "outputs": [],
   "source": [
    "cm = ChurnModel(cols_gd)"
   ]
  },
  {
   "cell_type": "code",
   "execution_count": null,
   "metadata": {},
   "outputs": [],
   "source": []
  },
  {
   "cell_type": "code",
   "execution_count": 11,
   "metadata": {},
   "outputs": [],
   "source": [
    "clubs_train_gd = clubs_train.drop(dropcols,axis=1)\n",
    "clubs_test_gd = clubs_test.drop(dropcols,axis=1)"
   ]
  },
  {
   "cell_type": "code",
   "execution_count": 12,
   "metadata": {},
   "outputs": [],
   "source": [
    "cm.fit_gradient_boosted_forest(clubs_train_gd,n_estimators=100)\n",
    "m.get_pickle(cm)\n",
    "cm_test = pickle.load(open('model.p','rb'))"
   ]
  },
  {
   "cell_type": "code",
   "execution_count": null,
   "metadata": {},
   "outputs": [],
   "source": []
  },
  {
   "cell_type": "code",
   "execution_count": 13,
   "metadata": {},
   "outputs": [],
   "source": [
    "yhat,probas,score,cv_scores = cm_test.get_predictions(clubs_test_gd,clubs_train_gd)"
   ]
  },
  {
   "cell_type": "code",
   "execution_count": null,
   "metadata": {},
   "outputs": [],
   "source": []
  },
  {
   "cell_type": "code",
   "execution_count": null,
   "metadata": {
    "scrolled": true
   },
   "outputs": [],
   "source": []
  },
  {
   "cell_type": "code",
   "execution_count": 56,
   "metadata": {
    "scrolled": true
   },
   "outputs": [
    {
     "data": {
      "text/plain": [
       "array([1, 0, 1, 0, 1, 0, 1, 1, 0, 1, 0, 0, 1, 0, 0, 0, 0, 0, 0, 0, 0, 0,\n",
       "       0, 0, 1, 0, 0, 1, 0, 0, 0, 0, 1, 0, 1, 0, 1, 0, 1, 0, 0, 0, 1, 1,\n",
       "       0, 0, 1, 1, 0, 1, 1, 1, 1, 1, 1, 0, 0, 0, 0, 0, 0, 1, 0, 0, 0, 1,\n",
       "       0, 0, 1, 1, 1, 1, 1, 0, 0, 1, 0, 0, 1, 1, 1, 0, 0, 1, 0, 0, 0, 1,\n",
       "       0, 1, 0, 1, 1, 1, 0, 1, 0, 1, 1, 0, 0, 0, 0, 0, 0, 0, 0, 0, 1, 0,\n",
       "       0, 1, 1, 1, 0, 0, 0, 0, 1, 0, 0, 1, 0, 1, 0, 0, 0, 0, 1, 1, 1, 0,\n",
       "       0, 0, 1, 1, 1, 1, 1, 0, 1, 0, 0, 0, 0, 1, 1, 0, 0, 0, 0, 0, 0, 0,\n",
       "       1, 1, 1, 0, 0, 0, 0, 0, 1, 0, 1, 1, 0, 1, 1, 1, 1, 1, 1, 1, 0, 0,\n",
       "       0, 0, 0, 1, 1, 1, 0, 1, 0, 0, 1, 1, 0, 1, 0, 1, 0, 0, 0, 0, 0, 0,\n",
       "       1, 0, 0, 0, 1, 1, 1, 1, 1, 1, 1, 0, 1, 0, 1, 1, 0, 0, 1, 0, 0, 0,\n",
       "       0, 1, 0, 1, 0, 0, 0, 0, 0, 0, 0, 0, 0, 1, 0, 0, 1, 0, 1, 1, 0, 0,\n",
       "       0, 0, 0, 0, 1, 1, 0, 0, 1, 1, 1, 1, 1, 0, 1, 0, 0, 0, 0, 0, 1, 0,\n",
       "       0, 1, 0, 0, 1, 0, 0, 0, 0, 0, 1, 0, 1, 0, 0, 0, 1, 0, 1, 0, 0, 0,\n",
       "       0, 1, 0, 0, 0, 1, 0, 1, 1, 0, 0, 0, 0, 1, 0, 0, 1, 0, 1, 1, 0, 0,\n",
       "       1, 0, 1, 0, 0, 1, 0, 1, 0, 0, 0, 0, 0, 1, 1, 1, 1, 1, 0, 1, 1, 0,\n",
       "       0, 0, 1, 0, 0, 0, 1, 0, 0, 1, 0, 0, 0, 1, 0, 1, 1, 0, 0, 0, 1, 0,\n",
       "       0, 0, 0, 0, 0, 1, 0, 0, 0, 1, 0, 0, 0, 1, 0, 1, 0, 1, 0, 1, 0, 0,\n",
       "       1, 0, 0, 0, 1, 0, 1, 0, 1, 0, 0, 1, 1])"
      ]
     },
     "execution_count": 56,
     "metadata": {},
     "output_type": "execute_result"
    }
   ],
   "source": [
    "yhat"
   ]
  },
  {
   "cell_type": "code",
   "execution_count": 57,
   "metadata": {},
   "outputs": [
    {
     "data": {
      "text/plain": [
       "array([0.91273247, 0.92120344, 0.90114613, 0.90544413, 0.91678623])"
      ]
     },
     "execution_count": 57,
     "metadata": {},
     "output_type": "execute_result"
    }
   ],
   "source": [
    "cv_scores"
   ]
  },
  {
   "cell_type": "code",
   "execution_count": 58,
   "metadata": {},
   "outputs": [
    {
     "data": {
      "text/plain": [
       "0.937984496124031"
      ]
     },
     "execution_count": 58,
     "metadata": {},
     "output_type": "execute_result"
    }
   ],
   "source": [
    "score"
   ]
  },
  {
   "cell_type": "markdown",
   "metadata": {},
   "source": [
    "**Partial Dependence Plots**"
   ]
  },
  {
   "cell_type": "code",
   "execution_count": 25,
   "metadata": {},
   "outputs": [],
   "source": [
    "from sklearn.ensemble.partial_dependence import plot_partial_dependence\n",
    "from sklearn.ensemble.partial_dependence import partial_dependence"
   ]
  },
  {
   "cell_type": "code",
   "execution_count": 26,
   "metadata": {},
   "outputs": [
    {
     "data": {
      "text/plain": [
       "sklearn.ensemble.gradient_boosting.GradientBoostingClassifier"
      ]
     },
     "execution_count": 26,
     "metadata": {},
     "output_type": "execute_result"
    }
   ],
   "source": [
    "type(cm.model)\n"
   ]
  },
  {
   "cell_type": "code",
   "execution_count": null,
   "metadata": {},
   "outputs": [],
   "source": []
  },
  {
   "cell_type": "code",
   "execution_count": null,
   "metadata": {},
   "outputs": [],
   "source": []
  },
  {
   "cell_type": "code",
   "execution_count": 27,
   "metadata": {},
   "outputs": [],
   "source": [
    "c = np.array(clubs_train_gd.columns).reshape(-1,1).T"
   ]
  },
  {
   "cell_type": "code",
   "execution_count": null,
   "metadata": {},
   "outputs": [],
   "source": []
  },
  {
   "cell_type": "code",
   "execution_count": 28,
   "metadata": {},
   "outputs": [],
   "source": [
    "features = []\n",
    "for col in cols:\n",
    "    features.append(np.argwhere(c==col)[0])\n",
    "    \n",
    "\n",
    "features = list(np.array(features)[:,1])"
   ]
  },
  {
   "cell_type": "code",
   "execution_count": 41,
   "metadata": {},
   "outputs": [
    {
     "data": {
      "text/html": [
       "<div>\n",
       "<style scoped>\n",
       "    .dataframe tbody tr th:only-of-type {\n",
       "        vertical-align: middle;\n",
       "    }\n",
       "\n",
       "    .dataframe tbody tr th {\n",
       "        vertical-align: top;\n",
       "    }\n",
       "\n",
       "    .dataframe thead th {\n",
       "        text-align: right;\n",
       "    }\n",
       "</style>\n",
       "<table border=\"1\" class=\"dataframe\">\n",
       "  <thead>\n",
       "    <tr style=\"text-align: right;\">\n",
       "      <th></th>\n",
       "      <th>Age</th>\n",
       "      <th>isPickup</th>\n",
       "      <th>Transactions</th>\n",
       "      <th>Shipments</th>\n",
       "      <th>Quantity</th>\n",
       "      <th>Orders Total</th>\n",
       "      <th>ASP</th>\n",
       "      <th>LTV</th>\n",
       "      <th>Time Since Last Order</th>\n",
       "      <th>Last Order Amount</th>\n",
       "      <th>Club Length</th>\n",
       "      <th>Average Transaction</th>\n",
       "      <th>Target</th>\n",
       "      <th>Quarter Case</th>\n",
       "      <th>Half Case</th>\n",
       "      <th>Full Case</th>\n",
       "    </tr>\n",
       "  </thead>\n",
       "  <tbody>\n",
       "    <tr>\n",
       "      <th>0</th>\n",
       "      <td>26.0</td>\n",
       "      <td>False</td>\n",
       "      <td>2.0</td>\n",
       "      <td>0</td>\n",
       "      <td>0.0</td>\n",
       "      <td>0.00</td>\n",
       "      <td>0.000000</td>\n",
       "      <td>183.31</td>\n",
       "      <td>0.000000</td>\n",
       "      <td>183.31</td>\n",
       "      <td>0.000000</td>\n",
       "      <td>91.655000</td>\n",
       "      <td>False</td>\n",
       "      <td>1</td>\n",
       "      <td>0</td>\n",
       "      <td>0</td>\n",
       "    </tr>\n",
       "    <tr>\n",
       "      <th>1</th>\n",
       "      <td>59.0</td>\n",
       "      <td>True</td>\n",
       "      <td>18.0</td>\n",
       "      <td>5</td>\n",
       "      <td>134.0</td>\n",
       "      <td>3207.06</td>\n",
       "      <td>23.933284</td>\n",
       "      <td>3446.96</td>\n",
       "      <td>0.500000</td>\n",
       "      <td>259.81</td>\n",
       "      <td>2.833333</td>\n",
       "      <td>191.497778</td>\n",
       "      <td>True</td>\n",
       "      <td>0</td>\n",
       "      <td>1</td>\n",
       "      <td>0</td>\n",
       "    </tr>\n",
       "    <tr>\n",
       "      <th>2</th>\n",
       "      <td>71.0</td>\n",
       "      <td>False</td>\n",
       "      <td>25.0</td>\n",
       "      <td>19</td>\n",
       "      <td>47.0</td>\n",
       "      <td>1855.80</td>\n",
       "      <td>39.485106</td>\n",
       "      <td>5072.00</td>\n",
       "      <td>0.000000</td>\n",
       "      <td>173.34</td>\n",
       "      <td>5.583333</td>\n",
       "      <td>202.880000</td>\n",
       "      <td>False</td>\n",
       "      <td>1</td>\n",
       "      <td>0</td>\n",
       "      <td>0</td>\n",
       "    </tr>\n",
       "    <tr>\n",
       "      <th>3</th>\n",
       "      <td>40.0</td>\n",
       "      <td>False</td>\n",
       "      <td>2.0</td>\n",
       "      <td>1</td>\n",
       "      <td>0.0</td>\n",
       "      <td>0.00</td>\n",
       "      <td>0.000000</td>\n",
       "      <td>216.99</td>\n",
       "      <td>0.083333</td>\n",
       "      <td>153.96</td>\n",
       "      <td>0.166667</td>\n",
       "      <td>108.495000</td>\n",
       "      <td>True</td>\n",
       "      <td>1</td>\n",
       "      <td>0</td>\n",
       "      <td>0</td>\n",
       "    </tr>\n",
       "    <tr>\n",
       "      <th>4</th>\n",
       "      <td>33.0</td>\n",
       "      <td>False</td>\n",
       "      <td>5.0</td>\n",
       "      <td>2</td>\n",
       "      <td>0.0</td>\n",
       "      <td>0.00</td>\n",
       "      <td>0.000000</td>\n",
       "      <td>498.06</td>\n",
       "      <td>0.000000</td>\n",
       "      <td>172.44</td>\n",
       "      <td>1.333333</td>\n",
       "      <td>99.612000</td>\n",
       "      <td>False</td>\n",
       "      <td>1</td>\n",
       "      <td>0</td>\n",
       "      <td>0</td>\n",
       "    </tr>\n",
       "  </tbody>\n",
       "</table>\n",
       "</div>"
      ],
      "text/plain": [
       "    Age  isPickup  Transactions  Shipments  Quantity  Orders Total        ASP      LTV  Time Since Last Order  Last Order Amount  Club Length  Average Transaction  Target  Quarter Case  Half Case  Full Case\n",
       "0  26.0     False           2.0          0       0.0          0.00   0.000000   183.31               0.000000             183.31     0.000000            91.655000   False             1          0          0\n",
       "1  59.0      True          18.0          5     134.0       3207.06  23.933284  3446.96               0.500000             259.81     2.833333           191.497778    True             0          1          0\n",
       "2  71.0     False          25.0         19      47.0       1855.80  39.485106  5072.00               0.000000             173.34     5.583333           202.880000   False             1          0          0\n",
       "3  40.0     False           2.0          1       0.0          0.00   0.000000   216.99               0.083333             153.96     0.166667           108.495000    True             1          0          0\n",
       "4  33.0     False           5.0          2       0.0          0.00   0.000000   498.06               0.000000             172.44     1.333333            99.612000   False             1          0          0"
      ]
     },
     "execution_count": 41,
     "metadata": {},
     "output_type": "execute_result"
    }
   ],
   "source": [
    "clubs_train_gd.head()"
   ]
  },
  {
   "cell_type": "code",
   "execution_count": 52,
   "metadata": {},
   "outputs": [],
   "source": [
    "c = list(clubs_train_gd[cols].columns)"
   ]
  },
  {
   "cell_type": "code",
   "execution_count": 53,
   "metadata": {},
   "outputs": [
    {
     "data": {
      "text/plain": [
       "array([0, 1, 2, 3, 4, 5, 6, 7])"
      ]
     },
     "execution_count": 53,
     "metadata": {},
     "output_type": "execute_result"
    }
   ],
   "source": [
    "# Hard-coding in order to test\n",
    "features = np.arange(0,len(c))\n",
    "features"
   ]
  },
  {
   "cell_type": "markdown",
   "metadata": {},
   "source": [
    "**Partial Dependence Plots are a huge plus for interpretability**\n",
    "\n",
    "Need to adjust time since last order gto include POS data on\n",
    "\n",
    "\n",
    "Club member attrition appears to be maximal within first 9 months\n",
    "\n",
    "More transactions churn less (ASP)\n",
    "\n",
    "Pickups churn less\n",
    "\n",
    "Bigger spenders churn less\n",
    "\n"
   ]
  },
  {
   "cell_type": "code",
   "execution_count": 54,
   "metadata": {},
   "outputs": [
    {
     "data": {
      "image/png": "[encoded data removed]",
      "text/plain": [
       "<Figure size 1008x648 with 8 Axes>"
      ]
     },
     "metadata": {
      "needs_background": "light"
     },
     "output_type": "display_data"
    }
   ],
   "source": [
    "fig, axs = plot_partial_dependence(cm.model, clubs_train_gd[cols].values, features,\n",
    "                                   feature_names=clubs_train_gd[cols].columns,\n",
    "                                   n_jobs=3, grid_resolution=50,figsize=(14,9))"
   ]
  },
  {
   "cell_type": "markdown",
   "metadata": {},
   "source": [
    "**Now we'll get into k-means clustering**"
   ]
  },
  {
   "cell_type": "code",
   "execution_count": 9,
   "metadata": {},
   "outputs": [
    {
     "data": {
      "text/html": [
       "<div>\n",
       "<style scoped>\n",
       "    .dataframe tbody tr th:only-of-type {\n",
       "        vertical-align: middle;\n",
       "    }\n",
       "\n",
       "    .dataframe tbody tr th {\n",
       "        vertical-align: top;\n",
       "    }\n",
       "\n",
       "    .dataframe thead th {\n",
       "        text-align: right;\n",
       "    }\n",
       "</style>\n",
       "<table border=\"1\" class=\"dataframe\">\n",
       "  <thead>\n",
       "    <tr style=\"text-align: right;\">\n",
       "      <th></th>\n",
       "      <th>Customer ID</th>\n",
       "      <th>Club Tier</th>\n",
       "      <th>State</th>\n",
       "      <th>Zip</th>\n",
       "      <th>Age</th>\n",
       "      <th>isPickup</th>\n",
       "      <th>Transactions</th>\n",
       "      <th>Shipments</th>\n",
       "      <th>Quantity</th>\n",
       "      <th>Orders Total</th>\n",
       "      <th>ASP</th>\n",
       "      <th>LTV</th>\n",
       "      <th>Time Since Last Order</th>\n",
       "      <th>Last Order Amount</th>\n",
       "      <th>Club Status</th>\n",
       "      <th>Club Length</th>\n",
       "      <th>Cancel Reason</th>\n",
       "      <th>Average Transaction</th>\n",
       "      <th>Above Mean Club Length</th>\n",
       "      <th>Target</th>\n",
       "      <th>Quarter Case</th>\n",
       "      <th>Half Case</th>\n",
       "      <th>Full Case</th>\n",
       "    </tr>\n",
       "  </thead>\n",
       "  <tbody>\n",
       "    <tr>\n",
       "      <th>0</th>\n",
       "      <td>38205</td>\n",
       "      <td>3-Bottle</td>\n",
       "      <td>CA</td>\n",
       "      <td>92707</td>\n",
       "      <td>26.0</td>\n",
       "      <td>False</td>\n",
       "      <td>2.0</td>\n",
       "      <td>0</td>\n",
       "      <td>0.0</td>\n",
       "      <td>0.00</td>\n",
       "      <td>0.000000</td>\n",
       "      <td>183.31</td>\n",
       "      <td>0.000000</td>\n",
       "      <td>183.31</td>\n",
       "      <td>Active</td>\n",
       "      <td>0.000000</td>\n",
       "      <td>NaN</td>\n",
       "      <td>91.655000</td>\n",
       "      <td>0</td>\n",
       "      <td>False</td>\n",
       "      <td>1</td>\n",
       "      <td>0</td>\n",
       "      <td>0</td>\n",
       "    </tr>\n",
       "    <tr>\n",
       "      <th>1</th>\n",
       "      <td>17869</td>\n",
       "      <td>6-Bottle</td>\n",
       "      <td>CA</td>\n",
       "      <td>94510</td>\n",
       "      <td>59.0</td>\n",
       "      <td>True</td>\n",
       "      <td>18.0</td>\n",
       "      <td>5</td>\n",
       "      <td>134.0</td>\n",
       "      <td>3207.06</td>\n",
       "      <td>23.933284</td>\n",
       "      <td>3446.96</td>\n",
       "      <td>0.500000</td>\n",
       "      <td>259.81</td>\n",
       "      <td>Cancelled</td>\n",
       "      <td>2.833333</td>\n",
       "      <td>Non-Response to Payment Update</td>\n",
       "      <td>191.497778</td>\n",
       "      <td>1</td>\n",
       "      <td>True</td>\n",
       "      <td>0</td>\n",
       "      <td>1</td>\n",
       "      <td>0</td>\n",
       "    </tr>\n",
       "    <tr>\n",
       "      <th>2</th>\n",
       "      <td>7745</td>\n",
       "      <td>3-Bottle</td>\n",
       "      <td>GA</td>\n",
       "      <td>30012</td>\n",
       "      <td>71.0</td>\n",
       "      <td>False</td>\n",
       "      <td>25.0</td>\n",
       "      <td>19</td>\n",
       "      <td>47.0</td>\n",
       "      <td>1855.80</td>\n",
       "      <td>39.485106</td>\n",
       "      <td>5072.00</td>\n",
       "      <td>0.000000</td>\n",
       "      <td>173.34</td>\n",
       "      <td>Active</td>\n",
       "      <td>5.583333</td>\n",
       "      <td>NaN</td>\n",
       "      <td>202.880000</td>\n",
       "      <td>1</td>\n",
       "      <td>False</td>\n",
       "      <td>1</td>\n",
       "      <td>0</td>\n",
       "      <td>0</td>\n",
       "    </tr>\n",
       "    <tr>\n",
       "      <th>3</th>\n",
       "      <td>23147</td>\n",
       "      <td>3-Bottle</td>\n",
       "      <td>CA</td>\n",
       "      <td>94941</td>\n",
       "      <td>40.0</td>\n",
       "      <td>False</td>\n",
       "      <td>2.0</td>\n",
       "      <td>1</td>\n",
       "      <td>0.0</td>\n",
       "      <td>0.00</td>\n",
       "      <td>0.000000</td>\n",
       "      <td>216.99</td>\n",
       "      <td>0.083333</td>\n",
       "      <td>153.96</td>\n",
       "      <td>Cancelled</td>\n",
       "      <td>0.166667</td>\n",
       "      <td>No Reason Given</td>\n",
       "      <td>108.495000</td>\n",
       "      <td>0</td>\n",
       "      <td>True</td>\n",
       "      <td>1</td>\n",
       "      <td>0</td>\n",
       "      <td>0</td>\n",
       "    </tr>\n",
       "    <tr>\n",
       "      <th>4</th>\n",
       "      <td>33979</td>\n",
       "      <td>3-Bottle</td>\n",
       "      <td>CA</td>\n",
       "      <td>90071</td>\n",
       "      <td>33.0</td>\n",
       "      <td>False</td>\n",
       "      <td>5.0</td>\n",
       "      <td>2</td>\n",
       "      <td>0.0</td>\n",
       "      <td>0.00</td>\n",
       "      <td>0.000000</td>\n",
       "      <td>498.06</td>\n",
       "      <td>0.000000</td>\n",
       "      <td>172.44</td>\n",
       "      <td>Active</td>\n",
       "      <td>1.333333</td>\n",
       "      <td>NaN</td>\n",
       "      <td>99.612000</td>\n",
       "      <td>0</td>\n",
       "      <td>False</td>\n",
       "      <td>1</td>\n",
       "      <td>0</td>\n",
       "      <td>0</td>\n",
       "    </tr>\n",
       "  </tbody>\n",
       "</table>\n",
       "</div>"
      ],
      "text/plain": [
       "   Customer ID Club Tier State    Zip   Age  isPickup  Transactions  Shipments  Quantity  Orders Total        ASP      LTV  Time Since Last Order  Last Order Amount Club Status  Club Length                   Cancel Reason  Average Transaction  Above Mean Club Length  Target  Quarter Case  Half Case  Full Case\n",
       "0        38205  3-Bottle    CA  92707  26.0     False           2.0          0       0.0          0.00   0.000000   183.31               0.000000             183.31      Active     0.000000                             NaN            91.655000                       0   False             1          0          0\n",
       "1        17869  6-Bottle    CA  94510  59.0      True          18.0          5     134.0       3207.06  23.933284  3446.96               0.500000             259.81   Cancelled     2.833333  Non-Response to Payment Update           191.497778                       1    True             0          1          0\n",
       "2         7745  3-Bottle    GA  30012  71.0     False          25.0         19      47.0       1855.80  39.485106  5072.00               0.000000             173.34      Active     5.583333                             NaN           202.880000                       1   False             1          0          0\n",
       "3        23147  3-Bottle    CA  94941  40.0     False           2.0          1       0.0          0.00   0.000000   216.99               0.083333             153.96   Cancelled     0.166667                 No Reason Given           108.495000                       0    True             1          0          0\n",
       "4        33979  3-Bottle    CA  90071  33.0     False           5.0          2       0.0          0.00   0.000000   498.06               0.000000             172.44      Active     1.333333                             NaN            99.612000                       0   False             1          0          0"
      ]
     },
     "execution_count": 9,
     "metadata": {},
     "output_type": "execute_result"
    }
   ],
   "source": [
    "clubs_train.head()"
   ]
  },
  {
   "cell_type": "code",
   "execution_count": 17,
   "metadata": {},
   "outputs": [
    {
     "data": {
      "text/plain": [
       "(67, 23)"
      ]
     },
     "execution_count": 17,
     "metadata": {},
     "output_type": "execute_result"
    }
   ],
   "source": [
    "clubs_train[clubs_train[\"Time Since Last Order\"]<0]"
   ]
  },
  {
   "cell_type": "code",
   "execution_count": null,
   "metadata": {},
   "outputs": [],
   "source": []
  },
  {
   "cell_type": "code",
   "execution_count": 25,
   "metadata": {},
   "outputs": [],
   "source": [
    "X = clubs_train[cols].values"
   ]
  },
  {
   "cell_type": "code",
   "execution_count": 36,
   "metadata": {},
   "outputs": [],
   "source": [
    "km = KMeans(X,k=2)"
   ]
  },
  {
   "cell_type": "code",
   "execution_count": 37,
   "metadata": {
    "scrolled": true
   },
   "outputs": [],
   "source": [
    "km.fit(min_converge=0.001,max_iter=5) # min_converge=1, max_iter=5"
   ]
  },
  {
   "cell_type": "code",
   "execution_count": 38,
   "metadata": {},
   "outputs": [
    {
     "data": {
      "text/plain": [
       "array([0, 1, 1, ..., 0, 0, 0])"
      ]
     },
     "execution_count": 38,
     "metadata": {},
     "output_type": "execute_result"
    }
   ],
   "source": [
    "km.y"
   ]
  },
  {
   "cell_type": "code",
   "execution_count": 39,
   "metadata": {},
   "outputs": [
    {
     "data": {
      "text/plain": [
       "431"
      ]
     },
     "execution_count": 39,
     "metadata": {},
     "output_type": "execute_result"
    }
   ],
   "source": [
    "km.y.sum()"
   ]
  },
  {
   "cell_type": "code",
   "execution_count": 40,
   "metadata": {
    "scrolled": false
   },
   "outputs": [
    {
     "data": {
      "text/plain": [
       "(3490,)"
      ]
     },
     "execution_count": 40,
     "metadata": {},
     "output_type": "execute_result"
    }
   ],
   "source": [
    "km.y.shape"
   ]
  },
  {
   "cell_type": "markdown",
   "metadata": {},
   "source": [
    "**Check elbow curve to determine appropriate K given SSE plot**"
   ]
  },
  {
   "cell_type": "code",
   "execution_count": 48,
   "metadata": {},
   "outputs": [],
   "source": [
    "k_range = np.arange(2,15)"
   ]
  },
  {
   "cell_type": "code",
   "execution_count": 49,
   "metadata": {},
   "outputs": [
    {
     "ename": "IndexError",
     "evalue": "index 0 is out of bounds for axis 0 with size 0",
     "output_type": "error",
     "traceback": [
      "\u001b[0;31m---------------------------------------------------------------------------\u001b[0m",
      "\u001b[0;31mIndexError\u001b[0m                                Traceback (most recent call last)",
      "\u001b[0;32m<ipython-input-49-e9d6019ccebe>\u001b[0m in \u001b[0;36m<module>\u001b[0;34m\u001b[0m\n\u001b[1;32m      2\u001b[0m \u001b[0;32mfor\u001b[0m \u001b[0mk\u001b[0m \u001b[0;32min\u001b[0m \u001b[0mk_range\u001b[0m\u001b[0;34m:\u001b[0m\u001b[0;34m\u001b[0m\u001b[0;34m\u001b[0m\u001b[0m\n\u001b[1;32m      3\u001b[0m     \u001b[0mkm\u001b[0m \u001b[0;34m=\u001b[0m \u001b[0mKMeans\u001b[0m\u001b[0;34m(\u001b[0m\u001b[0mX\u001b[0m\u001b[0;34m,\u001b[0m\u001b[0mk\u001b[0m\u001b[0;34m=\u001b[0m\u001b[0mk\u001b[0m\u001b[0;34m)\u001b[0m\u001b[0;34m\u001b[0m\u001b[0;34m\u001b[0m\u001b[0m\n\u001b[0;32m----> 4\u001b[0;31m     \u001b[0mkm\u001b[0m\u001b[0;34m.\u001b[0m\u001b[0mfit\u001b[0m\u001b[0;34m(\u001b[0m\u001b[0mmin_converge\u001b[0m\u001b[0;34m=\u001b[0m\u001b[0;36m0.005\u001b[0m\u001b[0;34m,\u001b[0m\u001b[0mmax_iter\u001b[0m\u001b[0;34m=\u001b[0m\u001b[0;36m10\u001b[0m\u001b[0;34m)\u001b[0m\u001b[0;34m\u001b[0m\u001b[0;34m\u001b[0m\u001b[0m\n\u001b[0m\u001b[1;32m      5\u001b[0m     \u001b[0msses\u001b[0m\u001b[0;34m.\u001b[0m\u001b[0mappend\u001b[0m\u001b[0;34m(\u001b[0m\u001b[0mkm\u001b[0m\u001b[0;34m.\u001b[0m\u001b[0msse\u001b[0m\u001b[0;34m(\u001b[0m\u001b[0;34m)\u001b[0m\u001b[0;34m)\u001b[0m\u001b[0;34m\u001b[0m\u001b[0;34m\u001b[0m\u001b[0m\n\u001b[1;32m      6\u001b[0m \u001b[0mprint\u001b[0m\u001b[0;34m(\u001b[0m\u001b[0msses\u001b[0m\u001b[0;34m)\u001b[0m\u001b[0;34m\u001b[0m\u001b[0;34m\u001b[0m\u001b[0m\n",
      "\u001b[0;32m~/Galvanize/wine-clubs/wine-clubs/src/clusters.py\u001b[0m in \u001b[0;36mfit\u001b[0;34m(self, min_converge, max_iter)\u001b[0m\n\u001b[1;32m     64\u001b[0m             \u001b[0mself\u001b[0m\u001b[0;34m.\u001b[0m\u001b[0mclassify\u001b[0m\u001b[0;34m(\u001b[0m\u001b[0;34m)\u001b[0m\u001b[0;34m\u001b[0m\u001b[0;34m\u001b[0m\u001b[0m\n\u001b[1;32m     65\u001b[0m             \u001b[0;31m# Update centers\u001b[0m\u001b[0;34m\u001b[0m\u001b[0;34m\u001b[0m\u001b[0;34m\u001b[0m\u001b[0m\n\u001b[0;32m---> 66\u001b[0;31m             \u001b[0mself\u001b[0m\u001b[0;34m.\u001b[0m\u001b[0mupdate_centers\u001b[0m\u001b[0;34m(\u001b[0m\u001b[0;34m)\u001b[0m\u001b[0;34m\u001b[0m\u001b[0;34m\u001b[0m\u001b[0m\n\u001b[0m\u001b[1;32m     67\u001b[0m             \u001b[0mn_iter\u001b[0m \u001b[0;34m+=\u001b[0m \u001b[0;36m1\u001b[0m\u001b[0;34m\u001b[0m\u001b[0;34m\u001b[0m\u001b[0m\n\u001b[1;32m     68\u001b[0m \u001b[0;34m\u001b[0m\u001b[0m\n",
      "\u001b[0;32m~/Galvanize/wine-clubs/wine-clubs/src/clusters.py\u001b[0m in \u001b[0;36mupdate_centers\u001b[0;34m(self)\u001b[0m\n\u001b[1;32m     46\u001b[0m             \u001b[0mnew_center\u001b[0m \u001b[0;34m=\u001b[0m \u001b[0;34m[\u001b[0m\u001b[0;34m]\u001b[0m\u001b[0;34m\u001b[0m\u001b[0;34m\u001b[0m\u001b[0m\n\u001b[1;32m     47\u001b[0m             \u001b[0mconverge_dist\u001b[0m \u001b[0;34m=\u001b[0m \u001b[0;36m0\u001b[0m\u001b[0;34m\u001b[0m\u001b[0;34m\u001b[0m\u001b[0m\n\u001b[0;32m---> 48\u001b[0;31m             \u001b[0;32mfor\u001b[0m \u001b[0mj\u001b[0m \u001b[0;32min\u001b[0m \u001b[0mrange\u001b[0m\u001b[0;34m(\u001b[0m\u001b[0mlen\u001b[0m\u001b[0;34m(\u001b[0m\u001b[0mcluster_members\u001b[0m\u001b[0;34m[\u001b[0m\u001b[0;36m0\u001b[0m\u001b[0;34m]\u001b[0m\u001b[0;34m)\u001b[0m\u001b[0;34m)\u001b[0m\u001b[0;34m:\u001b[0m\u001b[0;34m\u001b[0m\u001b[0;34m\u001b[0m\u001b[0m\n\u001b[0m\u001b[1;32m     49\u001b[0m                 \u001b[0mnew_center\u001b[0m\u001b[0;34m.\u001b[0m\u001b[0mappend\u001b[0m\u001b[0;34m(\u001b[0m \u001b[0mcluster_members\u001b[0m\u001b[0;34m[\u001b[0m\u001b[0;34m:\u001b[0m\u001b[0;34m,\u001b[0m\u001b[0mj\u001b[0m\u001b[0;34m]\u001b[0m\u001b[0;34m.\u001b[0m\u001b[0mmean\u001b[0m\u001b[0;34m(\u001b[0m\u001b[0;34m)\u001b[0m \u001b[0;34m)\u001b[0m\u001b[0;34m\u001b[0m\u001b[0;34m\u001b[0m\u001b[0m\n\u001b[1;32m     50\u001b[0m \u001b[0;34m\u001b[0m\u001b[0m\n",
      "\u001b[0;31mIndexError\u001b[0m: index 0 is out of bounds for axis 0 with size 0"
     ]
    }
   ],
   "source": [
    "sses = []\n",
    "for k in k_range:\n",
    "    km = KMeans(X,k=k)\n",
    "    km.fit(min_converge=0.005,max_iter=10)\n",
    "    sses.append(km.sse())\n",
    "print(sses)"
   ]
  },
  {
   "cell_type": "code",
   "execution_count": null,
   "metadata": {},
   "outputs": [],
   "source": [
    "plt.scatter(k_range,np.array(sses))"
   ]
  },
  {
   "cell_type": "code",
   "execution_count": null,
   "metadata": {},
   "outputs": [],
   "source": []
  },
  {
   "cell_type": "markdown",
   "metadata": {},
   "source": [
    "**Apply y filter to dataframe, check .describe() . to understand why clustered together**"
   ]
  },
  {
   "cell_type": "code",
   "execution_count": null,
   "metadata": {},
   "outputs": [],
   "source": []
  },
  {
   "cell_type": "code",
   "execution_count": null,
   "metadata": {},
   "outputs": [],
   "source": []
  },
  {
   "cell_type": "code",
   "execution_count": null,
   "metadata": {},
   "outputs": [],
   "source": []
  },
  {
   "cell_type": "code",
   "execution_count": null,
   "metadata": {},
   "outputs": [],
   "source": []
  },
  {
   "cell_type": "code",
   "execution_count": null,
   "metadata": {},
   "outputs": [],
   "source": []
  },
  {
   "cell_type": "code",
   "execution_count": null,
   "metadata": {},
   "outputs": [],
   "source": []
  },
  {
   "cell_type": "markdown",
   "metadata": {},
   "source": [
    "**Fit a model**"
   ]
  },
  {
   "cell_type": "code",
   "execution_count": null,
   "metadata": {},
   "outputs": [],
   "source": []
  },
  {
   "cell_type": "code",
   "execution_count": 7,
   "metadata": {},
   "outputs": [],
   "source": []
  },
  {
   "cell_type": "markdown",
   "metadata": {},
   "source": [
    "**Best Model LogReg**\n",
    "\n",
    "columns\n",
    "auc\n",
    "\n",
    "cols = 'ASP','Club Length'\n",
    "score = 0.73\n",
    "\n",
    "cols = ['Age','ASP','Club Length']\n",
    "score = 0.75\n",
    "\n",
    "cols = ['Age','ASP','Club Length','Quarter Case']\n",
    "score = 0.76\n",
    "\n",
    "\n",
    "Lasso\n",
    "\n",
    "\n",
    "cols = ['Age','ASP','Club Length','Quarter Case','isPickup','Time Since Last Order','Last Order Amount']\n",
    "score = 0.85"
   ]
  },
  {
   "cell_type": "markdown",
   "metadata": {},
   "source": [
    "**Not significant**\n",
    "\n",
    "\n",
    "Average Transaction\n",
    "\n",
    "\n",
    "Last Order Amount\n"
   ]
  },
  {
   "cell_type": "markdown",
   "metadata": {},
   "source": [
    "**Significant**\n",
    "\n",
    "Age\n",
    "\n",
    "ASP\n",
    "\n",
    "Club Length\n",
    "\n",
    "Quarter Case\n",
    "\n",
    "isPickup\n",
    "\n",
    "Time Since Last Order\n",
    "\n",
    "Last Order Amount"
   ]
  },
  {
   "cell_type": "code",
   "execution_count": 8,
   "metadata": {},
   "outputs": [],
   "source": [
    "cm = ChurnModel()"
   ]
  },
  {
   "cell_type": "markdown",
   "metadata": {},
   "source": [
    "**Frequeny of transacgtions**\n"
   ]
  },
  {
   "cell_type": "code",
   "execution_count": 10,
   "metadata": {},
   "outputs": [
    {
     "name": "stdout",
     "output_type": "stream",
     "text": [
      "{'C': 1.0, 'class_weight': None, 'dual': False, 'fit_intercept': True, 'intercept_scaling': 1, 'max_iter': 100, 'multi_class': 'warn', 'n_jobs': None, 'penalty': 'l1', 'random_state': None, 'solver': 'warn', 'tol': 0.0001, 'verbose': 0, 'warm_start': False}\n"
     ]
    }
   ],
   "source": [
    "print(params)"
   ]
  },
  {
   "cell_type": "code",
   "execution_count": 11,
   "metadata": {},
   "outputs": [
    {
     "data": {
      "text/plain": [
       "array([[ 1.34995513e-02,  1.08757542e-01, -9.24450638e-01,\n",
       "         1.82919123e-01,  7.14788344e-02,  3.30685916e+00,\n",
       "        -9.79820661e-04,  4.33878729e-05]])"
      ]
     },
     "execution_count": 11,
     "metadata": {},
     "output_type": "execute_result"
    }
   ],
   "source": [
    "coefs"
   ]
  },
  {
   "cell_type": "code",
   "execution_count": 12,
   "metadata": {},
   "outputs": [
    {
     "data": {
      "text/plain": [
       "array([0.76972625, 0.76451613, 0.74354839, 0.76129032, 0.76935484])"
      ]
     },
     "execution_count": 12,
     "metadata": {},
     "output_type": "execute_result"
    }
   ],
   "source": [
    "cv_scores"
   ]
  },
  {
   "cell_type": "markdown",
   "metadata": {},
   "source": [
    "**Plot ROC, get AUC score**"
   ]
  },
  {
   "cell_type": "code",
   "execution_count": 13,
   "metadata": {},
   "outputs": [
    {
     "data": {
      "image/png": "[encoded data removed]",
      "text/plain": [
       "<Figure size 432x288 with 1 Axes>"
      ]
     },
     "metadata": {
      "needs_background": "light"
     },
     "output_type": "display_data"
    }
   ],
   "source": []
  },
  {
   "cell_type": "code",
   "execution_count": 14,
   "metadata": {},
   "outputs": [
    {
     "data": {
      "text/plain": [
       "(0.8583862317118708,\n",
       " array([1.        , 0.98791541, 0.98489426, 0.98489426, 0.98187311,\n",
       "        0.97583082, 0.96978852, 0.96978852, 0.96676737, 0.96374622,\n",
       "        0.96374622, 0.95770393, 0.95166163, 0.95166163, 0.95166163,\n",
       "        0.95166163, 0.94561934, 0.94561934, 0.94561934, 0.94259819,\n",
       "        0.93655589, 0.93655589, 0.9305136 , 0.92749245, 0.91540785,\n",
       "        0.90634441, 0.90030211, 0.89425982, 0.88217523, 0.86102719,\n",
       "        0.85498489, 0.8489426 , 0.83987915, 0.83383686, 0.82477341,\n",
       "        0.81268882, 0.79758308, 0.78851964, 0.77643505, 0.77643505,\n",
       "        0.77039275, 0.75830816, 0.74924471, 0.73111782, 0.72507553,\n",
       "        0.71903323, 0.70996979, 0.6918429 , 0.67673716, 0.66163142,\n",
       "        0.64954683, 0.64048338, 0.6163142 , 0.60422961, 0.59214502,\n",
       "        0.57401813, 0.56797583, 0.56193353, 0.55891239, 0.55589124,\n",
       "        0.5407855 , 0.53172205, 0.52265861, 0.50755287, 0.49244713,\n",
       "        0.48640483, 0.48036254, 0.47432024, 0.47129909, 0.45619335,\n",
       "        0.45015106, 0.45015106, 0.45015106, 0.45015106, 0.43806647,\n",
       "        0.42598187, 0.41389728, 0.40483384, 0.39274924, 0.38670695,\n",
       "        0.3836858 , 0.37160121, 0.36858006, 0.36253776, 0.35649547,\n",
       "        0.34441088, 0.34441088, 0.32930514, 0.32024169, 0.30513595,\n",
       "        0.3021148 , 0.26586103, 0.25377644, 0.2265861 , 0.19335347,\n",
       "        0.17824773, 0.14199396, 0.10574018, 0.05135952, 0.        ]),\n",
       " array([1.        , 0.96404494, 0.95280899, 0.95280899, 0.94382022,\n",
       "        0.93707865, 0.91011236, 0.88988764, 0.87865169, 0.85842697,\n",
       "        0.83146067, 0.80449438, 0.77977528, 0.7505618 , 0.73932584,\n",
       "        0.71235955, 0.69438202, 0.67640449, 0.64269663, 0.61573034,\n",
       "        0.59775281, 0.5752809 , 0.54831461, 0.49662921, 0.46966292,\n",
       "        0.42022472, 0.38876404, 0.36629213, 0.33258427, 0.31235955,\n",
       "        0.28988764, 0.27640449, 0.25168539, 0.24044944, 0.23370787,\n",
       "        0.22022472, 0.21348315, 0.20224719, 0.18876404, 0.18876404,\n",
       "        0.18876404, 0.18876404, 0.18651685, 0.18426966, 0.17977528,\n",
       "        0.1752809 , 0.17078652, 0.16629213, 0.15955056, 0.15505618,\n",
       "        0.14831461, 0.14157303, 0.12808989, 0.11235955, 0.10337079,\n",
       "        0.08764045, 0.0741573 , 0.06292135, 0.05842697, 0.0494382 ,\n",
       "        0.04269663, 0.04269663, 0.03820225, 0.03370787, 0.02921348,\n",
       "        0.0247191 , 0.0247191 , 0.0247191 , 0.0247191 , 0.02247191,\n",
       "        0.02247191, 0.02022472, 0.02022472, 0.02022472, 0.02022472,\n",
       "        0.01797753, 0.01573034, 0.01348315, 0.01348315, 0.01123596,\n",
       "        0.00898876, 0.00898876, 0.00674157, 0.00674157, 0.00674157,\n",
       "        0.00674157, 0.00224719, 0.        , 0.        , 0.        ,\n",
       "        0.        , 0.        , 0.        , 0.        , 0.        ,\n",
       "        0.        , 0.        , 0.        , 0.        , 0.        ]),\n",
       " array([0.        , 0.01010101, 0.02020202, 0.03030303, 0.04040404,\n",
       "        0.05050505, 0.06060606, 0.07070707, 0.08080808, 0.09090909,\n",
       "        0.1010101 , 0.11111111, 0.12121212, 0.13131313, 0.14141414,\n",
       "        0.15151515, 0.16161616, 0.17171717, 0.18181818, 0.19191919,\n",
       "        0.2020202 , 0.21212121, 0.22222222, 0.23232323, 0.24242424,\n",
       "        0.25252525, 0.26262626, 0.27272727, 0.28282828, 0.29292929,\n",
       "        0.3030303 , 0.31313131, 0.32323232, 0.33333333, 0.34343434,\n",
       "        0.35353535, 0.36363636, 0.37373737, 0.38383838, 0.39393939,\n",
       "        0.4040404 , 0.41414141, 0.42424242, 0.43434343, 0.44444444,\n",
       "        0.45454545, 0.46464646, 0.47474747, 0.48484848, 0.49494949,\n",
       "        0.50505051, 0.51515152, 0.52525253, 0.53535354, 0.54545455,\n",
       "        0.55555556, 0.56565657, 0.57575758, 0.58585859, 0.5959596 ,\n",
       "        0.60606061, 0.61616162, 0.62626263, 0.63636364, 0.64646465,\n",
       "        0.65656566, 0.66666667, 0.67676768, 0.68686869, 0.6969697 ,\n",
       "        0.70707071, 0.71717172, 0.72727273, 0.73737374, 0.74747475,\n",
       "        0.75757576, 0.76767677, 0.77777778, 0.78787879, 0.7979798 ,\n",
       "        0.80808081, 0.81818182, 0.82828283, 0.83838384, 0.84848485,\n",
       "        0.85858586, 0.86868687, 0.87878788, 0.88888889, 0.8989899 ,\n",
       "        0.90909091, 0.91919192, 0.92929293, 0.93939394, 0.94949495,\n",
       "        0.95959596, 0.96969697, 0.97979798, 0.98989899, 1.        ]))"
      ]
     },
     "execution_count": 14,
     "metadata": {},
     "output_type": "execute_result"
    }
   ],
   "source": [
    "auc"
   ]
  },
  {
   "cell_type": "markdown",
   "metadata": {},
   "source": [
    "**Fit Random Forest Classifier**"
   ]
  },
  {
   "cell_type": "code",
   "execution_count": 15,
   "metadata": {},
   "outputs": [],
   "source": [
    "rf_columns = ['Age','isPickup','Transactions','Shipments',\n",
    "       'Quantity','Orders Total','ASP','LTV',\"Time Since Last Order\",'Last Order Amount',\n",
    "       'Club Length','Average Transaction',\"Quarter Case\",\"Half Case\",\"Full Case\"]"
   ]
  },
  {
   "cell_type": "code",
   "execution_count": 16,
   "metadata": {},
   "outputs": [
    {
     "name": "stderr",
     "output_type": "stream",
     "text": [
      "/Users/philsalazar/anaconda3/envs/testenv/lib/python3.6/site-packages/sklearn/ensemble/forest.py:246: FutureWarning: The default value of n_estimators will change from 10 in version 0.20 to 100 in 0.22.\n",
      "  \"10 in version 0.20 to 100 in 0.22.\", FutureWarning)\n"
     ]
    }
   ],
   "source": [
    "y_test,probas,score,cv_scores,feature_importance = cm.fit_random_forest(clubs,rf_columns)"
   ]
  },
  {
   "cell_type": "code",
   "execution_count": 17,
   "metadata": {},
   "outputs": [
    {
     "data": {
      "text/plain": [
       "0.9188144329896907"
      ]
     },
     "execution_count": 17,
     "metadata": {},
     "output_type": "execute_result"
    }
   ],
   "source": [
    "score"
   ]
  },
  {
   "cell_type": "code",
   "execution_count": 18,
   "metadata": {},
   "outputs": [
    {
     "data": {
      "text/plain": [
       "array([0.9194847 , 0.90967742, 0.91774194, 0.90645161, 0.92096774])"
      ]
     },
     "execution_count": 18,
     "metadata": {},
     "output_type": "execute_result"
    }
   ],
   "source": [
    "cv_scores"
   ]
  },
  {
   "cell_type": "markdown",
   "metadata": {},
   "source": [
    "**ROC Curve for RF Classifier**"
   ]
  },
  {
   "cell_type": "code",
   "execution_count": 19,
   "metadata": {
    "scrolled": true
   },
   "outputs": [
    {
     "data": {
      "image/png": "[encoded data removed]",
      "text/plain": [
       "<Figure size 432x288 with 1 Axes>"
      ]
     },
     "metadata": {
      "needs_background": "light"
     },
     "output_type": "display_data"
    }
   ],
   "source": [
    "auc = cm.get_roc_curve(probas[:,1],y_test)"
   ]
  },
  {
   "cell_type": "code",
   "execution_count": 20,
   "metadata": {},
   "outputs": [],
   "source": [
    "ranked_features = zip(rf_columns,feature_importance)"
   ]
  },
  {
   "cell_type": "code",
   "execution_count": 21,
   "metadata": {},
   "outputs": [
    {
     "name": "stdout",
     "output_type": "stream",
     "text": [
      "('Age', 0.05481318065412577)\n",
      "('isPickup', 0.006326795505453384)\n",
      "('Transactions', 0.06681861599405624)\n",
      "('Shipments', 0.0401825589146481)\n",
      "('Quantity', 0.03631690381340942)\n",
      "('Orders Total', 0.032304693340685704)\n",
      "('ASP', 0.020078099699216093)\n",
      "('LTV', 0.07506395073310765)\n",
      "('Time Since Last Order', 0.4022853927218274)\n",
      "('Last Order Amount', 0.10647318494523399)\n",
      "('Club Length', 0.09121821992893576)\n",
      "('Average Transaction', 0.05612663747433735)\n",
      "('Quarter Case', 0.006326250879914984)\n",
      "('Half Case', 0.004522236352107002)\n",
      "('Full Case', 0.0011432790429411744)\n"
     ]
    }
   ],
   "source": [
    "for pair in ranked_features:\n",
    "    print(pair)"
   ]
  },
  {
   "cell_type": "code",
   "execution_count": 22,
   "metadata": {},
   "outputs": [
    {
     "data": {
      "text/plain": [
       "(0.9538511151091347,\n",
       " array([0.97885196, 0.97885196, 0.97885196, 0.97885196, 0.97885196,\n",
       "        0.97885196, 0.97885196, 0.97885196, 0.97885196, 0.97885196,\n",
       "        0.94561934, 0.94561934, 0.94561934, 0.94561934, 0.94561934,\n",
       "        0.94561934, 0.94561934, 0.94561934, 0.94561934, 0.94561934,\n",
       "        0.90634441, 0.90634441, 0.90634441, 0.90634441, 0.90634441,\n",
       "        0.90634441, 0.90634441, 0.90634441, 0.90634441, 0.90634441,\n",
       "        0.88217523, 0.88217523, 0.88217523, 0.88217523, 0.88217523,\n",
       "        0.88217523, 0.88217523, 0.88217523, 0.88217523, 0.88217523,\n",
       "        0.85196375, 0.85196375, 0.85196375, 0.85196375, 0.85196375,\n",
       "        0.85196375, 0.85196375, 0.85196375, 0.85196375, 0.85196375,\n",
       "        0.82477341, 0.82477341, 0.82477341, 0.82477341, 0.82477341,\n",
       "        0.82477341, 0.82477341, 0.82477341, 0.82477341, 0.82477341,\n",
       "        0.78851964, 0.78851964, 0.78851964, 0.78851964, 0.78851964,\n",
       "        0.78851964, 0.78851964, 0.78851964, 0.78851964, 0.78851964,\n",
       "        0.7673716 , 0.7673716 , 0.7673716 , 0.7673716 , 0.7673716 ,\n",
       "        0.7673716 , 0.7673716 , 0.7673716 , 0.7673716 , 0.7673716 ,\n",
       "        0.6918429 , 0.6918429 , 0.6918429 , 0.6918429 , 0.6918429 ,\n",
       "        0.6918429 , 0.6918429 , 0.6918429 , 0.6918429 , 0.6918429 ,\n",
       "        0.49244713, 0.49244713, 0.49244713, 0.49244713, 0.49244713,\n",
       "        0.49244713, 0.49244713, 0.49244713, 0.49244713, 0.        ]),\n",
       " array([0.54606742, 0.54606742, 0.54606742, 0.54606742, 0.54606742,\n",
       "        0.54606742, 0.54606742, 0.54606742, 0.54606742, 0.54606742,\n",
       "        0.28089888, 0.28089888, 0.28089888, 0.28089888, 0.28089888,\n",
       "        0.28089888, 0.28089888, 0.28089888, 0.28089888, 0.28089888,\n",
       "        0.1505618 , 0.1505618 , 0.1505618 , 0.1505618 , 0.1505618 ,\n",
       "        0.1505618 , 0.1505618 , 0.1505618 , 0.1505618 , 0.1505618 ,\n",
       "        0.08988764, 0.08988764, 0.08988764, 0.08988764, 0.08988764,\n",
       "        0.08988764, 0.08988764, 0.08988764, 0.08988764, 0.08988764,\n",
       "        0.03820225, 0.03820225, 0.03820225, 0.03820225, 0.03820225,\n",
       "        0.03820225, 0.03820225, 0.03820225, 0.03820225, 0.03820225,\n",
       "        0.01123596, 0.01123596, 0.01123596, 0.01123596, 0.01123596,\n",
       "        0.01123596, 0.01123596, 0.01123596, 0.01123596, 0.01123596,\n",
       "        0.00898876, 0.00898876, 0.00898876, 0.00898876, 0.00898876,\n",
       "        0.00898876, 0.00898876, 0.00898876, 0.00898876, 0.00898876,\n",
       "        0.00449438, 0.00449438, 0.00449438, 0.00449438, 0.00449438,\n",
       "        0.00449438, 0.00449438, 0.00449438, 0.00449438, 0.00449438,\n",
       "        0.00449438, 0.00449438, 0.00449438, 0.00449438, 0.00449438,\n",
       "        0.00449438, 0.00449438, 0.00449438, 0.00449438, 0.00449438,\n",
       "        0.00224719, 0.00224719, 0.00224719, 0.00224719, 0.00224719,\n",
       "        0.00224719, 0.00224719, 0.00224719, 0.00224719, 0.        ]),\n",
       " array([0.        , 0.01010101, 0.02020202, 0.03030303, 0.04040404,\n",
       "        0.05050505, 0.06060606, 0.07070707, 0.08080808, 0.09090909,\n",
       "        0.1010101 , 0.11111111, 0.12121212, 0.13131313, 0.14141414,\n",
       "        0.15151515, 0.16161616, 0.17171717, 0.18181818, 0.19191919,\n",
       "        0.2020202 , 0.21212121, 0.22222222, 0.23232323, 0.24242424,\n",
       "        0.25252525, 0.26262626, 0.27272727, 0.28282828, 0.29292929,\n",
       "        0.3030303 , 0.31313131, 0.32323232, 0.33333333, 0.34343434,\n",
       "        0.35353535, 0.36363636, 0.37373737, 0.38383838, 0.39393939,\n",
       "        0.4040404 , 0.41414141, 0.42424242, 0.43434343, 0.44444444,\n",
       "        0.45454545, 0.46464646, 0.47474747, 0.48484848, 0.49494949,\n",
       "        0.50505051, 0.51515152, 0.52525253, 0.53535354, 0.54545455,\n",
       "        0.55555556, 0.56565657, 0.57575758, 0.58585859, 0.5959596 ,\n",
       "        0.60606061, 0.61616162, 0.62626263, 0.63636364, 0.64646465,\n",
       "        0.65656566, 0.66666667, 0.67676768, 0.68686869, 0.6969697 ,\n",
       "        0.70707071, 0.71717172, 0.72727273, 0.73737374, 0.74747475,\n",
       "        0.75757576, 0.76767677, 0.77777778, 0.78787879, 0.7979798 ,\n",
       "        0.80808081, 0.81818182, 0.82828283, 0.83838384, 0.84848485,\n",
       "        0.85858586, 0.86868687, 0.87878788, 0.88888889, 0.8989899 ,\n",
       "        0.90909091, 0.91919192, 0.92929293, 0.93939394, 0.94949495,\n",
       "        0.95959596, 0.96969697, 0.97979798, 0.98989899, 1.        ]))"
      ]
     },
     "execution_count": 22,
     "metadata": {},
     "output_type": "execute_result"
    }
   ],
   "source": [
    "auc"
   ]
  },
  {
   "cell_type": "code",
   "execution_count": 23,
   "metadata": {},
   "outputs": [],
   "source": []
  },
  {
   "cell_type": "code",
   "execution_count": null,
   "metadata": {},
   "outputs": [],
   "source": []
  },
  {
   "cell_type": "code",
   "execution_count": 24,
   "metadata": {},
   "outputs": [],
   "source": [
    "m.get_pickle(cm.model)\n",
    "cm_test = pickle.load('model.p')\n",
    "cm_test.unpack_data('../test_set.csv')"
   ]
  },
  {
   "cell_type": "code",
   "execution_count": null,
   "metadata": {},
   "outputs": [],
   "source": [
    "cm_test = pickle.load('model.p')"
   ]
  },
  {
   "cell_type": "code",
   "execution_count": null,
   "metadata": {},
   "outputs": [],
   "source": [
    "cm_test.unpack_data('../test_set.csv')"
   ]
  },
  {
   "cell_type": "code",
   "execution_count": null,
   "metadata": {},
   "outputs": [],
   "source": []
  },
  {
   "cell_type": "code",
   "execution_count": null,
   "metadata": {},
   "outputs": [],
   "source": []
  },
  {
   "cell_type": "code",
   "execution_count": null,
   "metadata": {},
   "outputs": [],
   "source": []
  },
  {
   "cell_type": "code",
   "execution_count": null,
   "metadata": {},
   "outputs": [],
   "source": []
  },
  {
   "cell_type": "code",
   "execution_count": 53,
   "metadata": {},
   "outputs": [],
   "source": []
  },
  {
   "cell_type": "code",
   "execution_count": null,
   "metadata": {},
   "outputs": [],
   "source": []
  },
  {
   "cell_type": "code",
   "execution_count": null,
   "metadata": {},
   "outputs": [],
   "source": []
  },
  {
   "cell_type": "code",
   "execution_count": null,
   "metadata": {},
   "outputs": [],
   "source": []
  },
  {
   "cell_type": "markdown",
   "metadata": {},
   "source": [
    "**If a member has no orders in POS, it is plausible that they were a ClubOnSite and had their tastings waived, and did not buy bottles in the tasting room. It is also plausible that they joined online and have not visited the tasting room to buy bottles.**"
   ]
  },
  {
   "cell_type": "code",
   "execution_count": 7,
   "metadata": {
    "scrolled": true
   },
   "outputs": [
    {
     "data": {
      "text/plain": [
       "1.7388229730891585"
      ]
     },
     "execution_count": 7,
     "metadata": {},
     "output_type": "execute_result"
    }
   ],
   "source": [
    "clubs[\"Club Length\"].mean()"
   ]
  },
  {
   "cell_type": "code",
   "execution_count": 4,
   "metadata": {},
   "outputs": [
    {
     "data": {
      "text/plain": [
       "2.023008241758242"
      ]
     },
     "execution_count": 4,
     "metadata": {},
     "output_type": "execute_result"
    }
   ],
   "source": [
    "clubs[clubs[\"Club Status\"]==\"Active\"][\"Club Length\"].mean()"
   ]
  },
  {
   "cell_type": "code",
   "execution_count": 26,
   "metadata": {},
   "outputs": [
    {
     "data": {
      "text/plain": [
       "('2015-09-12 14:38:46', '2019-03-16 19:16:18')"
      ]
     },
     "execution_count": 26,
     "metadata": {},
     "output_type": "execute_result"
    }
   ],
   "source": [
    "data[\"OrderCompletedDate\"].min(),data[\"OrderCompletedDate\"].max()"
   ]
  },
  {
   "cell_type": "code",
   "execution_count": 5,
   "metadata": {},
   "outputs": [
    {
     "data": {
      "text/plain": [
       "Index(['OrderNumber', 'Customer Number', 'OrderCompletedDate', 'orderstatus', 'ordertype', 'BillCustomerNumber', 'ShipStateCode', 'BillBirthDate', 'ShipZipCode', 'BillCity', 'BillZipCode', 'isPickup', 'Quantity', 'ProductType', 'ProductSKU', 'originalPrice', 'Price', 'Total'], dtype='object')"
      ]
     },
     "execution_count": 5,
     "metadata": {},
     "output_type": "execute_result"
    }
   ],
   "source": [
    "data.columns"
   ]
  },
  {
   "cell_type": "code",
   "execution_count": null,
   "metadata": {},
   "outputs": [],
   "source": []
  },
  {
   "cell_type": "code",
   "execution_count": null,
   "metadata": {},
   "outputs": [],
   "source": []
  },
  {
   "cell_type": "code",
   "execution_count": null,
   "metadata": {},
   "outputs": [],
   "source": []
  },
  {
   "cell_type": "code",
   "execution_count": null,
   "metadata": {},
   "outputs": [],
   "source": []
  },
  {
   "cell_type": "code",
   "execution_count": 11,
   "metadata": {},
   "outputs": [
    {
     "data": {
      "text/plain": [
       "(4366, 16)"
      ]
     },
     "execution_count": 11,
     "metadata": {},
     "output_type": "execute_result"
    }
   ],
   "source": [
    "clubs.shape"
   ]
  },
  {
   "cell_type": "code",
   "execution_count": 5,
   "metadata": {
    "scrolled": true
   },
   "outputs": [
    {
     "data": {
      "text/plain": [
       "Index(['Customer ID', 'Club Tier', 'State', 'Zip', 'Age', 'isPickup', 'Transactions', 'Shipments', 'Quantity', 'Orders Total', 'LTV', 'Time Since Last Order', 'Last Order Amount', 'Club Status', 'Club Length', 'Cancel Reason'], dtype='object')"
      ]
     },
     "execution_count": 5,
     "metadata": {},
     "output_type": "execute_result"
    }
   ],
   "source": [
    "clubs.columns"
   ]
  },
  {
   "cell_type": "code",
   "execution_count": 6,
   "metadata": {},
   "outputs": [
    {
     "name": "stdout",
     "output_type": "stream",
     "text": [
      "<class 'pandas.core.frame.DataFrame'>\n",
      "Int64Index: 4366 entries, 0 to 4365\n",
      "Data columns (total 16 columns):\n",
      "Customer ID              4366 non-null int64\n",
      "Club Tier                4366 non-null object\n",
      "State                    4366 non-null object\n",
      "Zip                      4366 non-null object\n",
      "Age                      4366 non-null float64\n",
      "isPickup                 4366 non-null bool\n",
      "Transactions             4366 non-null float64\n",
      "Shipments                4366 non-null int64\n",
      "Quantity                 1201 non-null float64\n",
      "Orders Total             1201 non-null float64\n",
      "LTV                      4366 non-null float64\n",
      "Time Since Last Order    4366 non-null float64\n",
      "Last Order Amount        4366 non-null float64\n",
      "Club Status              4365 non-null object\n",
      "Club Length              4366 non-null float64\n",
      "Cancel Reason            1826 non-null object\n",
      "dtypes: bool(1), float64(8), int64(2), object(5)\n",
      "memory usage: 550.0+ KB\n"
     ]
    }
   ],
   "source": [
    "clubs.info()"
   ]
  },
  {
   "cell_type": "code",
   "execution_count": 2,
   "metadata": {},
   "outputs": [],
   "source": [
    "path = '../club_members.csv'\n",
    "clubs = pd.read_csv(path)"
   ]
  },
  {
   "cell_type": "code",
   "execution_count": 3,
   "metadata": {
    "scrolled": false
   },
   "outputs": [
    {
     "name": "stdout",
     "output_type": "stream",
     "text": [
      "<class 'pandas.core.frame.DataFrame'>\n",
      "RangeIndex: 4366 entries, 0 to 4365\n",
      "Data columns (total 19 columns):\n",
      "Club                                                         4366 non-null object\n",
      "Club Status                                                  4358 non-null object\n",
      "Customer Number                                              4366 non-null int64\n",
      "Bill Birth Date                                              4026 non-null object\n",
      "Bill City                                                    4361 non-null object\n",
      "Bill State Code                                              4361 non-null object\n",
      "Bill Zip                                                     4358 non-null object\n",
      "Ship Birth Date                                              3986 non-null object\n",
      "Ship City                                                    4360 non-null object\n",
      "Ship State Code                                              4360 non-null object\n",
      "Ship Zip                                                     4357 non-null object\n",
      "Pickup Location                                              1213 non-null object\n",
      "Signup Date                                                  4366 non-null object\n",
      "Cancel Date                                                  2071 non-null object\n",
      "Cancel Reason                                                1826 non-null object\n",
      "Shipments (note that these don't necessarily mean orders)    4366 non-null int64\n",
      "Last Processed Date                                          3827 non-null object\n",
      "Lifetime Value                                               4366 non-null object\n",
      "Last Order Date                                              4344 non-null object\n",
      "dtypes: int64(2), object(17)\n",
      "memory usage: 648.2+ KB\n"
     ]
    }
   ],
   "source": [
    "clubs.info()"
   ]
  },
  {
   "cell_type": "markdown",
   "metadata": {},
   "source": [
    "**These have full values**\n",
    "```\n",
    "Club                                                         4366 non-null object\n",
    "Customer Number                                              4366 non-null int64\n",
    "Signup Date                                                  4366 non-null object\n",
    "Shipments (note that these don't necessarily mean orders)    4366 non-null int64\n",
    "Lifetime Value                                               4366 non-null object\n",
    "```"
   ]
  },
  {
   "cell_type": "markdown",
   "metadata": {},
   "source": [
    "**Need to fill NaNs for**\n",
    "```\n",
    "Club Status (Done)                                                4358 non-null object\n",
    "Bill Birth Date  (Done ---> \"age\")                                           4026 non-null object\n",
    "Ship City     (Calistoga)                                               4360 non-null object\n",
    "Ship State Code   (CA)                                           4360 non-null object\n",
    "Ship Zip          (94515)                                          4357 non-null object\n",
    "Pickup Location    (Done ---> \"isPickup\")                                          1213 non-null object\n",
    "Cancel Date        (Done ---> \"clubLength\")                                          2071 non-null object\n",
    "Cancel Reason      (Keep NaNs?)                                         1826 non-null object\n",
    "Last Processed Date                                         3827 non-null object\n",
    "Last Order Date                                              4344 non-null object\n",
    "```"
   ]
  },
  {
   "cell_type": "markdown",
   "metadata": {},
   "source": [
    "**Don't need**\n",
    "```\n",
    "Bill City                                                    4361 non-null object\n",
    "Bill State Code                                              4361 non-null object\n",
    "Bill Zip                                                     4358 non-null object\n",
    "```"
   ]
  },
  {
   "cell_type": "markdown",
   "metadata": {},
   "source": [
    "**CLEAN UP Clubs**"
   ]
  },
  {
   "cell_type": "code",
   "execution_count": 4,
   "metadata": {
    "scrolled": true
   },
   "outputs": [],
   "source": [
    "nans = [\"Club Status\",\"Bill Birth Date\",\"Ship Birth Date\",\"Ship City\",\"Ship State Code\",\"Ship Zip\",\"Pickup Location\",\"Cancel Date\",\"Cancel Reason\",\"Last Processed Date\",\"Last Order Date\"]\n",
    "delete = [\"Bill City\",\"Bill State Code\",\"Bill Zip\"]\n",
    "keep = [\"Club\",\"Customer Number\",\"Signup Date\",\"Shipments (note that these don't necessarily mean orders)\",\"Lifetime Value\"]\n"
   ]
  },
  {
   "cell_type": "code",
   "execution_count": 5,
   "metadata": {},
   "outputs": [],
   "source": [
    "clubs = clubs[nans + keep]"
   ]
  },
  {
   "cell_type": "code",
   "execution_count": 6,
   "metadata": {},
   "outputs": [],
   "source": [
    "clubs[\"ltv\"] = [float( \"\".join((ltv[1:].split(\",\"))) ) for ltv in clubs[\"Lifetime Value\"]]"
   ]
  },
  {
   "cell_type": "code",
   "execution_count": 7,
   "metadata": {
    "scrolled": true
   },
   "outputs": [],
   "source": [
    "clubs.loc[clubs[\"Club Status\"].isna() & clubs[\"Cancel Date\"].isna(),\"Club Status\"] = \"Active\""
   ]
  },
  {
   "cell_type": "code",
   "execution_count": 8,
   "metadata": {},
   "outputs": [],
   "source": [
    "clubs.loc[clubs[\"Club Status\"].isna() & ~clubs[\"Cancel Reason\"].isna(),\"Club Status\"] = \"Cancelled\""
   ]
  },
  {
   "cell_type": "code",
   "execution_count": 9,
   "metadata": {},
   "outputs": [],
   "source": [
    "clubs.loc[ (clubs[\"Bill Birth Date\"].isna() & ~clubs[\"Ship Birth Date\"].isna()) , \"Bill Birth Date\"] = clubs[\"Ship Birth Date\"]"
   ]
  },
  {
   "cell_type": "code",
   "execution_count": 10,
   "metadata": {},
   "outputs": [],
   "source": [
    "clubs.loc[ (~clubs[\"Bill Birth Date\"].isna() & clubs[\"Ship Birth Date\"].isna()) , \"Ship Birth Date\"] = clubs[\"Bill Birth Date\"]\n"
   ]
  },
  {
   "cell_type": "code",
   "execution_count": 11,
   "metadata": {},
   "outputs": [],
   "source": [
    "clubs.loc[ (clubs[\"Bill Birth Date\"].isna() ),\"Bill Birth Date\" ] = str(1/1/20)"
   ]
  },
  {
   "cell_type": "code",
   "execution_count": 12,
   "metadata": {},
   "outputs": [],
   "source": [
    "clubs[\"age\"] = np.array( [(2019-int(\"19\" + \"\".join(bd[-2::]))) for bd in clubs[~clubs[\"Bill Birth Date\"].isna()]\n",
    "                        [\"Bill Birth Date\"] ])"
   ]
  },
  {
   "cell_type": "code",
   "execution_count": 13,
   "metadata": {},
   "outputs": [],
   "source": [
    "clubs.loc[(clubs[\"age\"]==99),\"age\"] = clubs.loc[~(clubs[\"age\"]==99),\"age\"].values.mean()"
   ]
  },
  {
   "cell_type": "code",
   "execution_count": 14,
   "metadata": {},
   "outputs": [],
   "source": [
    "clubs.loc[clubs[\"Ship City\"].isna(),\"Ship City\"] = \"Calistoga\"\n",
    "clubs.loc[clubs[\"Ship State Code\"].isna(),\"Ship State Code\"] = \"CA\"\n",
    "clubs.loc[clubs[\"Ship Zip\"].isna(),\"Ship Zip\"] = \"94515\""
   ]
  },
  {
   "cell_type": "code",
   "execution_count": 15,
   "metadata": {},
   "outputs": [],
   "source": [
    "clubs[\"isPickup\"] = ~clubs[\"Pickup Location\"].isna()"
   ]
  },
  {
   "cell_type": "code",
   "execution_count": 16,
   "metadata": {},
   "outputs": [],
   "source": [
    "clubs[\"cancel\"] = np.array([str(cancel).split(\"/\")[0::2] for cancel in clubs[\"Cancel Date\"]])"
   ]
  },
  {
   "cell_type": "code",
   "execution_count": 43,
   "metadata": {},
   "outputs": [],
   "source": [
    "clubs[\"signup\"] = [list(str(signup).split(\"/\")[0::2]) for signup in clubs[\"Signup Date\"]]"
   ]
  },
  {
   "cell_type": "code",
   "execution_count": null,
   "metadata": {},
   "outputs": [],
   "source": []
  },
  {
   "cell_type": "code",
   "execution_count": null,
   "metadata": {},
   "outputs": [],
   "source": []
  },
  {
   "cell_type": "code",
   "execution_count": 41,
   "metadata": {},
   "outputs": [],
   "source": [
    "clubs[\"clubLength\"] = [(int(end[1]) - int(start[1])) +  ((( (int(end[0])+12) - int(start[0]) ) % 12  ) / 12 ) if (len(end)==2) else (19 - int(start[1])) +  ((( (3+12) - int(start[0]) ) % 12  ) / 12 ) for end,start in zip(clubs[\"cancel\"],clubs[\"signup\"]) ]\n"
   ]
  },
  {
   "cell_type": "code",
   "execution_count": 42,
   "metadata": {},
   "outputs": [
    {
     "data": {
      "text/html": [
       "<div>\n",
       "<style scoped>\n",
       "    .dataframe tbody tr th:only-of-type {\n",
       "        vertical-align: middle;\n",
       "    }\n",
       "\n",
       "    .dataframe tbody tr th {\n",
       "        vertical-align: top;\n",
       "    }\n",
       "\n",
       "    .dataframe thead th {\n",
       "        text-align: right;\n",
       "    }\n",
       "</style>\n",
       "<table border=\"1\" class=\"dataframe\">\n",
       "  <thead>\n",
       "    <tr style=\"text-align: right;\">\n",
       "      <th></th>\n",
       "      <th>Club Status</th>\n",
       "      <th>Bill Birth Date</th>\n",
       "      <th>Ship Birth Date</th>\n",
       "      <th>Ship City</th>\n",
       "      <th>Ship State Code</th>\n",
       "      <th>Ship Zip</th>\n",
       "      <th>Pickup Location</th>\n",
       "      <th>Cancel Date</th>\n",
       "      <th>Cancel Reason</th>\n",
       "      <th>Last Processed Date</th>\n",
       "      <th>...</th>\n",
       "      <th>Customer Number</th>\n",
       "      <th>Signup Date</th>\n",
       "      <th>Shipments (note that these don't necessarily mean orders)</th>\n",
       "      <th>Lifetime Value</th>\n",
       "      <th>ltv</th>\n",
       "      <th>age</th>\n",
       "      <th>isPickup</th>\n",
       "      <th>cancel</th>\n",
       "      <th>signup</th>\n",
       "      <th>clubLength</th>\n",
       "    </tr>\n",
       "  </thead>\n",
       "  <tbody>\n",
       "    <tr>\n",
       "      <th>3616</th>\n",
       "      <td>Cancelled</td>\n",
       "      <td>6/1/72</td>\n",
       "      <td>6/1/72</td>\n",
       "      <td>El Dorado Hills</td>\n",
       "      <td>CA</td>\n",
       "      <td>95762</td>\n",
       "      <td>Tank Garage Winery</td>\n",
       "      <td>3/9/19</td>\n",
       "      <td>Switched Club Level</td>\n",
       "      <td>2/4/19</td>\n",
       "      <td>...</td>\n",
       "      <td>33264</td>\n",
       "      <td>9/10/18</td>\n",
       "      <td>3</td>\n",
       "      <td>$2,115.54</td>\n",
       "      <td>2115.54</td>\n",
       "      <td>47.0</td>\n",
       "      <td>True</td>\n",
       "      <td>[3, 19]</td>\n",
       "      <td>[9, 18]</td>\n",
       "      <td>1.500000</td>\n",
       "    </tr>\n",
       "    <tr>\n",
       "      <th>2308</th>\n",
       "      <td>Active</td>\n",
       "      <td>3/30/64</td>\n",
       "      <td>3/30/64</td>\n",
       "      <td>Cheyenne</td>\n",
       "      <td>WY</td>\n",
       "      <td>82009</td>\n",
       "      <td>NaN</td>\n",
       "      <td>NaN</td>\n",
       "      <td>NaN</td>\n",
       "      <td>2/4/19</td>\n",
       "      <td>...</td>\n",
       "      <td>22809</td>\n",
       "      <td>9/23/17</td>\n",
       "      <td>8</td>\n",
       "      <td>$1,454.75</td>\n",
       "      <td>1454.75</td>\n",
       "      <td>55.0</td>\n",
       "      <td>False</td>\n",
       "      <td>[nan]</td>\n",
       "      <td>[9, 17]</td>\n",
       "      <td>2.500000</td>\n",
       "    </tr>\n",
       "    <tr>\n",
       "      <th>2488</th>\n",
       "      <td>Cancelled</td>\n",
       "      <td>9/22/81</td>\n",
       "      <td>9/22/81</td>\n",
       "      <td>Redwood City</td>\n",
       "      <td>CA</td>\n",
       "      <td>94063</td>\n",
       "      <td>NaN</td>\n",
       "      <td>3/6/19</td>\n",
       "      <td>Cutting Expenses/Lost Job</td>\n",
       "      <td>2/4/19</td>\n",
       "      <td>...</td>\n",
       "      <td>23431</td>\n",
       "      <td>11/17/17</td>\n",
       "      <td>7</td>\n",
       "      <td>$1,628.54</td>\n",
       "      <td>1628.54</td>\n",
       "      <td>38.0</td>\n",
       "      <td>False</td>\n",
       "      <td>[3, 19]</td>\n",
       "      <td>[11, 17]</td>\n",
       "      <td>2.333333</td>\n",
       "    </tr>\n",
       "    <tr>\n",
       "      <th>4129</th>\n",
       "      <td>Active</td>\n",
       "      <td>6/25/89</td>\n",
       "      <td>6/25/89</td>\n",
       "      <td>san francisco</td>\n",
       "      <td>CA</td>\n",
       "      <td>94118</td>\n",
       "      <td>Tank Garage Winery</td>\n",
       "      <td>NaN</td>\n",
       "      <td>NaN</td>\n",
       "      <td>NaN</td>\n",
       "      <td>...</td>\n",
       "      <td>35804</td>\n",
       "      <td>1/19/19</td>\n",
       "      <td>0</td>\n",
       "      <td>$143.52</td>\n",
       "      <td>143.52</td>\n",
       "      <td>30.0</td>\n",
       "      <td>True</td>\n",
       "      <td>[nan]</td>\n",
       "      <td>[1, 19]</td>\n",
       "      <td>0.166667</td>\n",
       "    </tr>\n",
       "    <tr>\n",
       "      <th>2993</th>\n",
       "      <td>Cancelled</td>\n",
       "      <td>11/13/85</td>\n",
       "      <td>11/13/85</td>\n",
       "      <td>Overland Park</td>\n",
       "      <td>KS</td>\n",
       "      <td>66211</td>\n",
       "      <td>NaN</td>\n",
       "      <td>12/21/18</td>\n",
       "      <td>Cutting Expenses/Lost Job</td>\n",
       "      <td>12/3/18</td>\n",
       "      <td>...</td>\n",
       "      <td>25816</td>\n",
       "      <td>4/14/18</td>\n",
       "      <td>3</td>\n",
       "      <td>$518.86</td>\n",
       "      <td>518.86</td>\n",
       "      <td>34.0</td>\n",
       "      <td>False</td>\n",
       "      <td>[12, 18]</td>\n",
       "      <td>[4, 18]</td>\n",
       "      <td>0.666667</td>\n",
       "    </tr>\n",
       "    <tr>\n",
       "      <th>1132</th>\n",
       "      <td>Cancelled</td>\n",
       "      <td>9/7/75</td>\n",
       "      <td>9/7/75</td>\n",
       "      <td>modesto</td>\n",
       "      <td>CA</td>\n",
       "      <td>95356</td>\n",
       "      <td>Tank Garage Winery</td>\n",
       "      <td>9/17/18</td>\n",
       "      <td>NaN</td>\n",
       "      <td>NaN</td>\n",
       "      <td>...</td>\n",
       "      <td>16881</td>\n",
       "      <td>7/22/18</td>\n",
       "      <td>0</td>\n",
       "      <td>$1,947.44</td>\n",
       "      <td>1947.44</td>\n",
       "      <td>44.0</td>\n",
       "      <td>True</td>\n",
       "      <td>[9, 18]</td>\n",
       "      <td>[7, 18]</td>\n",
       "      <td>0.166667</td>\n",
       "    </tr>\n",
       "    <tr>\n",
       "      <th>2433</th>\n",
       "      <td>Cancelled</td>\n",
       "      <td>10/29/76</td>\n",
       "      <td>10/29/76</td>\n",
       "      <td>San Francisco</td>\n",
       "      <td>CA</td>\n",
       "      <td>94111</td>\n",
       "      <td>Tank Garage Winery</td>\n",
       "      <td>7/10/18</td>\n",
       "      <td>Suspend Until Further Notice</td>\n",
       "      <td>7/9/18</td>\n",
       "      <td>...</td>\n",
       "      <td>23276</td>\n",
       "      <td>11/4/17</td>\n",
       "      <td>4</td>\n",
       "      <td>$825.33</td>\n",
       "      <td>825.33</td>\n",
       "      <td>43.0</td>\n",
       "      <td>True</td>\n",
       "      <td>[7, 18]</td>\n",
       "      <td>[11, 17]</td>\n",
       "      <td>1.666667</td>\n",
       "    </tr>\n",
       "    <tr>\n",
       "      <th>2457</th>\n",
       "      <td>Cancelled</td>\n",
       "      <td>4/8/52</td>\n",
       "      <td>4/8/52</td>\n",
       "      <td>Estacada</td>\n",
       "      <td>OR</td>\n",
       "      <td>97023</td>\n",
       "      <td>NaN</td>\n",
       "      <td>2/5/18</td>\n",
       "      <td>Cutting Expenses/Lost Job</td>\n",
       "      <td>2/5/18</td>\n",
       "      <td>...</td>\n",
       "      <td>23346</td>\n",
       "      <td>11/10/17</td>\n",
       "      <td>2</td>\n",
       "      <td>$274.03</td>\n",
       "      <td>274.03</td>\n",
       "      <td>67.0</td>\n",
       "      <td>False</td>\n",
       "      <td>[2, 18]</td>\n",
       "      <td>[11, 17]</td>\n",
       "      <td>1.250000</td>\n",
       "    </tr>\n",
       "    <tr>\n",
       "      <th>2945</th>\n",
       "      <td>Cancelled</td>\n",
       "      <td>11/30/87</td>\n",
       "      <td>11/30/87</td>\n",
       "      <td>San Francisco</td>\n",
       "      <td>CA</td>\n",
       "      <td>94117</td>\n",
       "      <td>Tank Garage Winery</td>\n",
       "      <td>11/30/18</td>\n",
       "      <td>Cutting Expenses/Lost Job</td>\n",
       "      <td>NaN</td>\n",
       "      <td>...</td>\n",
       "      <td>25654</td>\n",
       "      <td>10/27/18</td>\n",
       "      <td>0</td>\n",
       "      <td>$348.79</td>\n",
       "      <td>348.79</td>\n",
       "      <td>32.0</td>\n",
       "      <td>True</td>\n",
       "      <td>[11, 18]</td>\n",
       "      <td>[10, 18]</td>\n",
       "      <td>0.083333</td>\n",
       "    </tr>\n",
       "    <tr>\n",
       "      <th>3656</th>\n",
       "      <td>Cancelled</td>\n",
       "      <td>3/15/83</td>\n",
       "      <td>3/15/83</td>\n",
       "      <td>arlington</td>\n",
       "      <td>VA</td>\n",
       "      <td>22206</td>\n",
       "      <td>NaN</td>\n",
       "      <td>12/10/18</td>\n",
       "      <td>NaN</td>\n",
       "      <td>12/3/18</td>\n",
       "      <td>...</td>\n",
       "      <td>33439</td>\n",
       "      <td>9/19/18</td>\n",
       "      <td>1</td>\n",
       "      <td>$503.72</td>\n",
       "      <td>503.72</td>\n",
       "      <td>36.0</td>\n",
       "      <td>False</td>\n",
       "      <td>[12, 18]</td>\n",
       "      <td>[9, 18]</td>\n",
       "      <td>0.250000</td>\n",
       "    </tr>\n",
       "    <tr>\n",
       "      <th>370</th>\n",
       "      <td>Cancelled</td>\n",
       "      <td>5/4/76</td>\n",
       "      <td>5/4/76</td>\n",
       "      <td>Greenville</td>\n",
       "      <td>SC</td>\n",
       "      <td>29607</td>\n",
       "      <td>NaN</td>\n",
       "      <td>2/3/16</td>\n",
       "      <td>Too Much Wine</td>\n",
       "      <td>9/28/15</td>\n",
       "      <td>...</td>\n",
       "      <td>11027</td>\n",
       "      <td>5/22/15</td>\n",
       "      <td>1</td>\n",
       "      <td>$783.97</td>\n",
       "      <td>783.97</td>\n",
       "      <td>43.0</td>\n",
       "      <td>False</td>\n",
       "      <td>[2, 16]</td>\n",
       "      <td>[5, 15]</td>\n",
       "      <td>1.750000</td>\n",
       "    </tr>\n",
       "    <tr>\n",
       "      <th>1668</th>\n",
       "      <td>Active</td>\n",
       "      <td>5/11/68</td>\n",
       "      <td>5/11/68</td>\n",
       "      <td>Winter Springs</td>\n",
       "      <td>FL</td>\n",
       "      <td>32708</td>\n",
       "      <td>NaN</td>\n",
       "      <td>NaN</td>\n",
       "      <td>NaN</td>\n",
       "      <td>2/5/19</td>\n",
       "      <td>...</td>\n",
       "      <td>19940</td>\n",
       "      <td>3/12/17</td>\n",
       "      <td>8</td>\n",
       "      <td>$2,055.10</td>\n",
       "      <td>2055.10</td>\n",
       "      <td>51.0</td>\n",
       "      <td>False</td>\n",
       "      <td>[nan]</td>\n",
       "      <td>[3, 17]</td>\n",
       "      <td>2.000000</td>\n",
       "    </tr>\n",
       "    <tr>\n",
       "      <th>1515</th>\n",
       "      <td>Active</td>\n",
       "      <td>2/3/78</td>\n",
       "      <td>2/3/78</td>\n",
       "      <td>Mill Valley</td>\n",
       "      <td>CA</td>\n",
       "      <td>94941</td>\n",
       "      <td>Tank Garage Winery</td>\n",
       "      <td>NaN</td>\n",
       "      <td>NaN</td>\n",
       "      <td>2/5/19</td>\n",
       "      <td>...</td>\n",
       "      <td>19198</td>\n",
       "      <td>3/3/17</td>\n",
       "      <td>9</td>\n",
       "      <td>$2,918.64</td>\n",
       "      <td>2918.64</td>\n",
       "      <td>41.0</td>\n",
       "      <td>True</td>\n",
       "      <td>[nan]</td>\n",
       "      <td>[3, 17]</td>\n",
       "      <td>2.000000</td>\n",
       "    </tr>\n",
       "    <tr>\n",
       "      <th>3272</th>\n",
       "      <td>Active</td>\n",
       "      <td>3/8/90</td>\n",
       "      <td>3/8/90</td>\n",
       "      <td>Castro Valley</td>\n",
       "      <td>CA</td>\n",
       "      <td>94546</td>\n",
       "      <td>Tank Garage Winery</td>\n",
       "      <td>NaN</td>\n",
       "      <td>NaN</td>\n",
       "      <td>12/3/18</td>\n",
       "      <td>...</td>\n",
       "      <td>28238</td>\n",
       "      <td>6/26/18</td>\n",
       "      <td>3</td>\n",
       "      <td>$373.87</td>\n",
       "      <td>373.87</td>\n",
       "      <td>29.0</td>\n",
       "      <td>True</td>\n",
       "      <td>[nan]</td>\n",
       "      <td>[6, 18]</td>\n",
       "      <td>1.750000</td>\n",
       "    </tr>\n",
       "    <tr>\n",
       "      <th>1823</th>\n",
       "      <td>Cancelled</td>\n",
       "      <td>6/21/85</td>\n",
       "      <td>6/21/85</td>\n",
       "      <td>Tahoe vista</td>\n",
       "      <td>CA</td>\n",
       "      <td>96148</td>\n",
       "      <td>NaN</td>\n",
       "      <td>8/14/18</td>\n",
       "      <td>No Reason Given</td>\n",
       "      <td>7/9/18</td>\n",
       "      <td>...</td>\n",
       "      <td>20888</td>\n",
       "      <td>5/17/17</td>\n",
       "      <td>5</td>\n",
       "      <td>$850.63</td>\n",
       "      <td>850.63</td>\n",
       "      <td>34.0</td>\n",
       "      <td>False</td>\n",
       "      <td>[8, 18]</td>\n",
       "      <td>[5, 17]</td>\n",
       "      <td>1.250000</td>\n",
       "    </tr>\n",
       "  </tbody>\n",
       "</table>\n",
       "<p>15 rows × 22 columns</p>\n",
       "</div>"
      ],
      "text/plain": [
       "     Club Status Bill Birth Date Ship Birth Date        Ship City  \\\n",
       "3616   Cancelled          6/1/72          6/1/72  El Dorado Hills   \n",
       "2308      Active         3/30/64         3/30/64         Cheyenne   \n",
       "2488   Cancelled         9/22/81         9/22/81     Redwood City   \n",
       "4129      Active         6/25/89         6/25/89    san francisco   \n",
       "2993   Cancelled        11/13/85        11/13/85    Overland Park   \n",
       "1132   Cancelled          9/7/75          9/7/75          modesto   \n",
       "2433   Cancelled        10/29/76        10/29/76    San Francisco   \n",
       "2457   Cancelled          4/8/52          4/8/52         Estacada   \n",
       "2945   Cancelled        11/30/87        11/30/87    San Francisco   \n",
       "3656   Cancelled         3/15/83         3/15/83        arlington   \n",
       "370    Cancelled          5/4/76          5/4/76       Greenville   \n",
       "1668      Active         5/11/68         5/11/68   Winter Springs   \n",
       "1515      Active          2/3/78          2/3/78      Mill Valley   \n",
       "3272      Active          3/8/90          3/8/90    Castro Valley   \n",
       "1823   Cancelled         6/21/85         6/21/85      Tahoe vista   \n",
       "\n",
       "     Ship State Code Ship Zip     Pickup Location Cancel Date  \\\n",
       "3616              CA    95762  Tank Garage Winery      3/9/19   \n",
       "2308              WY    82009                 NaN         NaN   \n",
       "2488              CA    94063                 NaN      3/6/19   \n",
       "4129              CA    94118  Tank Garage Winery         NaN   \n",
       "2993              KS    66211                 NaN    12/21/18   \n",
       "1132              CA    95356  Tank Garage Winery     9/17/18   \n",
       "2433              CA    94111  Tank Garage Winery     7/10/18   \n",
       "2457              OR    97023                 NaN      2/5/18   \n",
       "2945              CA    94117  Tank Garage Winery    11/30/18   \n",
       "3656              VA    22206                 NaN    12/10/18   \n",
       "370               SC    29607                 NaN      2/3/16   \n",
       "1668              FL    32708                 NaN         NaN   \n",
       "1515              CA    94941  Tank Garage Winery         NaN   \n",
       "3272              CA    94546  Tank Garage Winery         NaN   \n",
       "1823              CA    96148                 NaN     8/14/18   \n",
       "\n",
       "                     Cancel Reason Last Processed Date  ... Customer Number  \\\n",
       "3616           Switched Club Level              2/4/19  ...           33264   \n",
       "2308                           NaN              2/4/19  ...           22809   \n",
       "2488     Cutting Expenses/Lost Job              2/4/19  ...           23431   \n",
       "4129                           NaN                 NaN  ...           35804   \n",
       "2993     Cutting Expenses/Lost Job             12/3/18  ...           25816   \n",
       "1132                           NaN                 NaN  ...           16881   \n",
       "2433  Suspend Until Further Notice              7/9/18  ...           23276   \n",
       "2457     Cutting Expenses/Lost Job              2/5/18  ...           23346   \n",
       "2945     Cutting Expenses/Lost Job                 NaN  ...           25654   \n",
       "3656                           NaN             12/3/18  ...           33439   \n",
       "370                  Too Much Wine             9/28/15  ...           11027   \n",
       "1668                           NaN              2/5/19  ...           19940   \n",
       "1515                           NaN              2/5/19  ...           19198   \n",
       "3272                           NaN             12/3/18  ...           28238   \n",
       "1823               No Reason Given              7/9/18  ...           20888   \n",
       "\n",
       "     Signup Date  Shipments (note that these don't necessarily mean orders)  \\\n",
       "3616     9/10/18                                                  3           \n",
       "2308     9/23/17                                                  8           \n",
       "2488    11/17/17                                                  7           \n",
       "4129     1/19/19                                                  0           \n",
       "2993     4/14/18                                                  3           \n",
       "1132     7/22/18                                                  0           \n",
       "2433     11/4/17                                                  4           \n",
       "2457    11/10/17                                                  2           \n",
       "2945    10/27/18                                                  0           \n",
       "3656     9/19/18                                                  1           \n",
       "370      5/22/15                                                  1           \n",
       "1668     3/12/17                                                  8           \n",
       "1515      3/3/17                                                  9           \n",
       "3272     6/26/18                                                  3           \n",
       "1823     5/17/17                                                  5           \n",
       "\n",
       "     Lifetime Value      ltv   age  isPickup    cancel    signup clubLength  \n",
       "3616     $2,115.54   2115.54  47.0      True   [3, 19]   [9, 18]   1.500000  \n",
       "2308     $1,454.75   1454.75  55.0     False     [nan]   [9, 17]   2.500000  \n",
       "2488     $1,628.54   1628.54  38.0     False   [3, 19]  [11, 17]   2.333333  \n",
       "4129       $143.52    143.52  30.0      True     [nan]   [1, 19]   0.166667  \n",
       "2993       $518.86    518.86  34.0     False  [12, 18]   [4, 18]   0.666667  \n",
       "1132     $1,947.44   1947.44  44.0      True   [9, 18]   [7, 18]   0.166667  \n",
       "2433       $825.33    825.33  43.0      True   [7, 18]  [11, 17]   1.666667  \n",
       "2457       $274.03    274.03  67.0     False   [2, 18]  [11, 17]   1.250000  \n",
       "2945       $348.79    348.79  32.0      True  [11, 18]  [10, 18]   0.083333  \n",
       "3656       $503.72    503.72  36.0     False  [12, 18]   [9, 18]   0.250000  \n",
       "370        $783.97    783.97  43.0     False   [2, 16]   [5, 15]   1.750000  \n",
       "1668     $2,055.10   2055.10  51.0     False     [nan]   [3, 17]   2.000000  \n",
       "1515     $2,918.64   2918.64  41.0      True     [nan]   [3, 17]   2.000000  \n",
       "3272       $373.87    373.87  29.0      True     [nan]   [6, 18]   1.750000  \n",
       "1823       $850.63    850.63  34.0     False   [8, 18]   [5, 17]   1.250000  \n",
       "\n",
       "[15 rows x 22 columns]"
      ]
     },
     "execution_count": 42,
     "metadata": {},
     "output_type": "execute_result"
    }
   ],
   "source": [
    "clubs.sample(15)"
   ]
  },
  {
   "cell_type": "markdown",
   "metadata": {},
   "source": [
    "**Make index**\n",
    "```\n",
    "Customer Number\n",
    "```\n",
    "**Potential Features**\n",
    "```\n",
    "hasMerch, timebetweenPurchases, ASP\n",
    "```\n",
    "**Filtering**\n",
    "```\n",
    "Cancel Reason \"Switched Club Level\"\n",
    "```\n",
    "\n",
    "\n"
   ]
  },
  {
   "cell_type": "code",
   "execution_count": 45,
   "metadata": {},
   "outputs": [],
   "source": [
    "path = '../customer_list.csv'\n",
    "customers = pd.read_csv(path)"
   ]
  },
  {
   "cell_type": "code",
   "execution_count": 46,
   "metadata": {},
   "outputs": [
    {
     "name": "stdout",
     "output_type": "stream",
     "text": [
      "<class 'pandas.core.frame.DataFrame'>\n",
      "RangeIndex: 32820 entries, 0 to 32819\n",
      "Data columns (total 10 columns):\n",
      "Customer No.              32820 non-null int64\n",
      "City                      10620 non-null object\n",
      "State                     10658 non-null object\n",
      "Zip Code                  10923 non-null object\n",
      "Number Of Transactions    32817 non-null float64\n",
      "Lifetime Value            32820 non-null object\n",
      "Last Order Date           20185 non-null object\n",
      "Last Order Amount         32820 non-null object\n",
      "Date Added                32820 non-null object\n",
      "Last Modified Date        32820 non-null object\n",
      "dtypes: float64(1), int64(1), object(8)\n",
      "memory usage: 2.5+ MB\n"
     ]
    }
   ],
   "source": [
    "customers.info()"
   ]
  },
  {
   "cell_type": "markdown",
   "metadata": {},
   "source": [
    "**Combine Customers (POS data?) onto Club**"
   ]
  },
  {
   "cell_type": "code",
   "execution_count": 52,
   "metadata": {},
   "outputs": [
    {
     "data": {
      "text/html": [
       "<div>\n",
       "<style scoped>\n",
       "    .dataframe tbody tr th:only-of-type {\n",
       "        vertical-align: middle;\n",
       "    }\n",
       "\n",
       "    .dataframe tbody tr th {\n",
       "        vertical-align: top;\n",
       "    }\n",
       "\n",
       "    .dataframe thead th {\n",
       "        text-align: right;\n",
       "    }\n",
       "</style>\n",
       "<table border=\"1\" class=\"dataframe\">\n",
       "  <thead>\n",
       "    <tr style=\"text-align: right;\">\n",
       "      <th></th>\n",
       "      <th>Club Status</th>\n",
       "      <th>Bill Birth Date</th>\n",
       "      <th>Ship Birth Date</th>\n",
       "      <th>Ship City</th>\n",
       "      <th>Ship State Code</th>\n",
       "      <th>Ship Zip</th>\n",
       "      <th>Pickup Location</th>\n",
       "      <th>Cancel Date</th>\n",
       "      <th>Cancel Reason</th>\n",
       "      <th>Last Processed Date</th>\n",
       "      <th>...</th>\n",
       "      <th>age</th>\n",
       "      <th>isPickup</th>\n",
       "      <th>cancel</th>\n",
       "      <th>signup</th>\n",
       "      <th>clubLength</th>\n",
       "      <th>Customer No.</th>\n",
       "      <th>Number Of Transactions</th>\n",
       "      <th>Lifetime Value_y</th>\n",
       "      <th>Last Order Date_y</th>\n",
       "      <th>Last Order Amount</th>\n",
       "    </tr>\n",
       "  </thead>\n",
       "  <tbody>\n",
       "    <tr>\n",
       "      <th>2668</th>\n",
       "      <td>Active</td>\n",
       "      <td>9/3/66</td>\n",
       "      <td>9/3/66</td>\n",
       "      <td>Cincinnati</td>\n",
       "      <td>OH</td>\n",
       "      <td>45244</td>\n",
       "      <td>NaN</td>\n",
       "      <td>NaN</td>\n",
       "      <td>NaN</td>\n",
       "      <td>2/4/19</td>\n",
       "      <td>...</td>\n",
       "      <td>53.0</td>\n",
       "      <td>False</td>\n",
       "      <td>[nan]</td>\n",
       "      <td>[1, 18]</td>\n",
       "      <td>1.166667</td>\n",
       "      <td>24284</td>\n",
       "      <td>8.0</td>\n",
       "      <td>$1,281.88</td>\n",
       "      <td>2/4/19</td>\n",
       "      <td>$173.34</td>\n",
       "    </tr>\n",
       "    <tr>\n",
       "      <th>2989</th>\n",
       "      <td>Cancelled</td>\n",
       "      <td>3/14/85</td>\n",
       "      <td>3/14/85</td>\n",
       "      <td>Los Angeles</td>\n",
       "      <td>CA</td>\n",
       "      <td>90015</td>\n",
       "      <td>NaN</td>\n",
       "      <td>11/7/18</td>\n",
       "      <td>No Reason Given</td>\n",
       "      <td>9/24/18</td>\n",
       "      <td>...</td>\n",
       "      <td>34.0</td>\n",
       "      <td>False</td>\n",
       "      <td>[11, 18]</td>\n",
       "      <td>[4, 18]</td>\n",
       "      <td>0.583333</td>\n",
       "      <td>25807</td>\n",
       "      <td>3.0</td>\n",
       "      <td>$340.92</td>\n",
       "      <td>9/24/18</td>\n",
       "      <td>$157.96</td>\n",
       "    </tr>\n",
       "    <tr>\n",
       "      <th>1325</th>\n",
       "      <td>Cancelled</td>\n",
       "      <td>11/5/93</td>\n",
       "      <td>11/5/93</td>\n",
       "      <td>Napa</td>\n",
       "      <td>CA</td>\n",
       "      <td>94558</td>\n",
       "      <td>Tank Garage Winery</td>\n",
       "      <td>4/30/17</td>\n",
       "      <td>Moved/Difficult to Receive Shipments</td>\n",
       "      <td>11/21/16</td>\n",
       "      <td>...</td>\n",
       "      <td>26.0</td>\n",
       "      <td>True</td>\n",
       "      <td>[4, 17]</td>\n",
       "      <td>[10, 16]</td>\n",
       "      <td>1.500000</td>\n",
       "      <td>17922</td>\n",
       "      <td>3.0</td>\n",
       "      <td>$256.57</td>\n",
       "      <td>11/28/16</td>\n",
       "      <td>$15.12</td>\n",
       "    </tr>\n",
       "    <tr>\n",
       "      <th>3578</th>\n",
       "      <td>Active</td>\n",
       "      <td>9/29/85</td>\n",
       "      <td>9/29/85</td>\n",
       "      <td>Atlanta</td>\n",
       "      <td>GA</td>\n",
       "      <td>30307</td>\n",
       "      <td>NaN</td>\n",
       "      <td>NaN</td>\n",
       "      <td>NaN</td>\n",
       "      <td>2/4/19</td>\n",
       "      <td>...</td>\n",
       "      <td>34.0</td>\n",
       "      <td>False</td>\n",
       "      <td>[nan]</td>\n",
       "      <td>[9, 18]</td>\n",
       "      <td>1.500000</td>\n",
       "      <td>33146</td>\n",
       "      <td>7.0</td>\n",
       "      <td>$686.56</td>\n",
       "      <td>2/4/19</td>\n",
       "      <td>$176.42</td>\n",
       "    </tr>\n",
       "    <tr>\n",
       "      <th>4066</th>\n",
       "      <td>Cancelled</td>\n",
       "      <td>10/22/82</td>\n",
       "      <td>10/22/82</td>\n",
       "      <td>Daly City</td>\n",
       "      <td>CA</td>\n",
       "      <td>94015</td>\n",
       "      <td>NaN</td>\n",
       "      <td>1/2/19</td>\n",
       "      <td>Other</td>\n",
       "      <td>NaN</td>\n",
       "      <td>...</td>\n",
       "      <td>37.0</td>\n",
       "      <td>False</td>\n",
       "      <td>[1, 19]</td>\n",
       "      <td>[12, 18]</td>\n",
       "      <td>1.083333</td>\n",
       "      <td>35541</td>\n",
       "      <td>2.0</td>\n",
       "      <td>$50.00</td>\n",
       "      <td>1/2/19</td>\n",
       "      <td>$50.00</td>\n",
       "    </tr>\n",
       "    <tr>\n",
       "      <th>2504</th>\n",
       "      <td>Active</td>\n",
       "      <td>10/9/60</td>\n",
       "      <td>10/9/60</td>\n",
       "      <td>san clemente</td>\n",
       "      <td>CA</td>\n",
       "      <td>92673</td>\n",
       "      <td>Tank Garage Winery</td>\n",
       "      <td>NaN</td>\n",
       "      <td>NaN</td>\n",
       "      <td>2/4/19</td>\n",
       "      <td>...</td>\n",
       "      <td>59.0</td>\n",
       "      <td>True</td>\n",
       "      <td>[nan]</td>\n",
       "      <td>[11, 17]</td>\n",
       "      <td>2.333333</td>\n",
       "      <td>23495</td>\n",
       "      <td>9.0</td>\n",
       "      <td>$1,232.94</td>\n",
       "      <td>2/4/19</td>\n",
       "      <td>$154.44</td>\n",
       "    </tr>\n",
       "    <tr>\n",
       "      <th>1577</th>\n",
       "      <td>Cancelled</td>\n",
       "      <td>11/22/74</td>\n",
       "      <td>11/22/74</td>\n",
       "      <td>San Francisco</td>\n",
       "      <td>CA</td>\n",
       "      <td>94107</td>\n",
       "      <td>NaN</td>\n",
       "      <td>11/27/18</td>\n",
       "      <td>Joined Another Winery's Club</td>\n",
       "      <td>9/25/18</td>\n",
       "      <td>...</td>\n",
       "      <td>45.0</td>\n",
       "      <td>False</td>\n",
       "      <td>[11, 18]</td>\n",
       "      <td>[2, 17]</td>\n",
       "      <td>1.750000</td>\n",
       "      <td>19586</td>\n",
       "      <td>8.0</td>\n",
       "      <td>$1,104.03</td>\n",
       "      <td>9/25/18</td>\n",
       "      <td>$157.96</td>\n",
       "    </tr>\n",
       "    <tr>\n",
       "      <th>2276</th>\n",
       "      <td>Active</td>\n",
       "      <td>2/19/90</td>\n",
       "      <td>1/1/00</td>\n",
       "      <td>Kent</td>\n",
       "      <td>WA</td>\n",
       "      <td>98032</td>\n",
       "      <td>NaN</td>\n",
       "      <td>NaN</td>\n",
       "      <td>NaN</td>\n",
       "      <td>2/4/19</td>\n",
       "      <td>...</td>\n",
       "      <td>29.0</td>\n",
       "      <td>False</td>\n",
       "      <td>[nan]</td>\n",
       "      <td>[9, 17]</td>\n",
       "      <td>2.500000</td>\n",
       "      <td>22718</td>\n",
       "      <td>10.0</td>\n",
       "      <td>$1,392.75</td>\n",
       "      <td>2/4/19</td>\n",
       "      <td>$178.20</td>\n",
       "    </tr>\n",
       "    <tr>\n",
       "      <th>1943</th>\n",
       "      <td>Cancelled</td>\n",
       "      <td>8/1/61</td>\n",
       "      <td>8/1/61</td>\n",
       "      <td>San Rafael</td>\n",
       "      <td>CA</td>\n",
       "      <td>94901</td>\n",
       "      <td>NaN</td>\n",
       "      <td>9/2/18</td>\n",
       "      <td>Switched Club Level</td>\n",
       "      <td>7/9/18</td>\n",
       "      <td>...</td>\n",
       "      <td>58.0</td>\n",
       "      <td>False</td>\n",
       "      <td>[9, 18]</td>\n",
       "      <td>[6, 17]</td>\n",
       "      <td>1.250000</td>\n",
       "      <td>21282</td>\n",
       "      <td>11.0</td>\n",
       "      <td>$2,133.40</td>\n",
       "      <td>12/3/18</td>\n",
       "      <td>$307.54</td>\n",
       "    </tr>\n",
       "    <tr>\n",
       "      <th>4055</th>\n",
       "      <td>Active</td>\n",
       "      <td>3/10/75</td>\n",
       "      <td>3/10/75</td>\n",
       "      <td>kirkland</td>\n",
       "      <td>WA</td>\n",
       "      <td>98033</td>\n",
       "      <td>NaN</td>\n",
       "      <td>NaN</td>\n",
       "      <td>NaN</td>\n",
       "      <td>2/4/19</td>\n",
       "      <td>...</td>\n",
       "      <td>44.0</td>\n",
       "      <td>False</td>\n",
       "      <td>[nan]</td>\n",
       "      <td>[12, 18]</td>\n",
       "      <td>1.250000</td>\n",
       "      <td>35484</td>\n",
       "      <td>4.0</td>\n",
       "      <td>$685.35</td>\n",
       "      <td>2/4/19</td>\n",
       "      <td>$178.20</td>\n",
       "    </tr>\n",
       "  </tbody>\n",
       "</table>\n",
       "<p>10 rows × 27 columns</p>\n",
       "</div>"
      ],
      "text/plain": [
       "     Club Status Bill Birth Date Ship Birth Date      Ship City  \\\n",
       "2668      Active          9/3/66          9/3/66     Cincinnati   \n",
       "2989   Cancelled         3/14/85         3/14/85    Los Angeles   \n",
       "1325   Cancelled         11/5/93         11/5/93           Napa   \n",
       "3578      Active         9/29/85         9/29/85        Atlanta   \n",
       "4066   Cancelled        10/22/82        10/22/82      Daly City   \n",
       "2504      Active         10/9/60         10/9/60   san clemente   \n",
       "1577   Cancelled        11/22/74        11/22/74  San Francisco   \n",
       "2276      Active         2/19/90          1/1/00           Kent   \n",
       "1943   Cancelled          8/1/61          8/1/61     San Rafael   \n",
       "4055      Active         3/10/75         3/10/75       kirkland   \n",
       "\n",
       "     Ship State Code Ship Zip     Pickup Location Cancel Date  \\\n",
       "2668              OH    45244                 NaN         NaN   \n",
       "2989              CA    90015                 NaN     11/7/18   \n",
       "1325              CA    94558  Tank Garage Winery     4/30/17   \n",
       "3578              GA    30307                 NaN         NaN   \n",
       "4066              CA    94015                 NaN      1/2/19   \n",
       "2504              CA    92673  Tank Garage Winery         NaN   \n",
       "1577              CA    94107                 NaN    11/27/18   \n",
       "2276              WA    98032                 NaN         NaN   \n",
       "1943              CA    94901                 NaN      9/2/18   \n",
       "4055              WA    98033                 NaN         NaN   \n",
       "\n",
       "                             Cancel Reason Last Processed Date  ...   age  \\\n",
       "2668                                   NaN              2/4/19  ...  53.0   \n",
       "2989                       No Reason Given             9/24/18  ...  34.0   \n",
       "1325  Moved/Difficult to Receive Shipments            11/21/16  ...  26.0   \n",
       "3578                                   NaN              2/4/19  ...  34.0   \n",
       "4066                                 Other                 NaN  ...  37.0   \n",
       "2504                                   NaN              2/4/19  ...  59.0   \n",
       "1577          Joined Another Winery's Club             9/25/18  ...  45.0   \n",
       "2276                                   NaN              2/4/19  ...  29.0   \n",
       "1943                   Switched Club Level              7/9/18  ...  58.0   \n",
       "4055                                   NaN              2/4/19  ...  44.0   \n",
       "\n",
       "     isPickup    cancel    signup  clubLength Customer No.  \\\n",
       "2668    False     [nan]   [1, 18]    1.166667        24284   \n",
       "2989    False  [11, 18]   [4, 18]    0.583333        25807   \n",
       "1325     True   [4, 17]  [10, 16]    1.500000        17922   \n",
       "3578    False     [nan]   [9, 18]    1.500000        33146   \n",
       "4066    False   [1, 19]  [12, 18]    1.083333        35541   \n",
       "2504     True     [nan]  [11, 17]    2.333333        23495   \n",
       "1577    False  [11, 18]   [2, 17]    1.750000        19586   \n",
       "2276    False     [nan]   [9, 17]    2.500000        22718   \n",
       "1943    False   [9, 18]   [6, 17]    1.250000        21282   \n",
       "4055    False     [nan]  [12, 18]    1.250000        35484   \n",
       "\n",
       "      Number Of Transactions  Lifetime Value_y  Last Order Date_y  \\\n",
       "2668                     8.0        $1,281.88              2/4/19   \n",
       "2989                     3.0          $340.92             9/24/18   \n",
       "1325                     3.0          $256.57            11/28/16   \n",
       "3578                     7.0          $686.56              2/4/19   \n",
       "4066                     2.0           $50.00              1/2/19   \n",
       "2504                     9.0        $1,232.94              2/4/19   \n",
       "1577                     8.0        $1,104.03             9/25/18   \n",
       "2276                    10.0        $1,392.75              2/4/19   \n",
       "1943                    11.0        $2,133.40             12/3/18   \n",
       "4055                     4.0          $685.35              2/4/19   \n",
       "\n",
       "     Last Order Amount  \n",
       "2668          $173.34   \n",
       "2989          $157.96   \n",
       "1325           $15.12   \n",
       "3578          $176.42   \n",
       "4066           $50.00   \n",
       "2504          $154.44   \n",
       "1577          $157.96   \n",
       "2276          $178.20   \n",
       "1943          $307.54   \n",
       "4055          $178.20   \n",
       "\n",
       "[10 rows x 27 columns]"
      ]
     },
     "execution_count": 52,
     "metadata": {},
     "output_type": "execute_result"
    }
   ],
   "source": [
    "# customers[\"ltv\"] = [float(\"\".join((ltv[1:].split(\",\"))) ) for ltv in customers[\"Lifetime Value\"]]\n",
    "clubs = clubs.merge(customers[['Customer No.','Number Of Transactions','Lifetime Value','Last Order Date','Last Order Amount']],how=\"left\",left_on=\"Customer Number\",right_on=\"Customer No.\")\n",
    "clubs.sample(10)"
   ]
  },
  {
   "cell_type": "code",
   "execution_count": 54,
   "metadata": {},
   "outputs": [],
   "source": [
    "path = '../order_history.csv'\n",
    "data = pd.read_csv(path)"
   ]
  },
  {
   "cell_type": "markdown",
   "metadata": {},
   "source": [
    "**Aggregate totals by custid**"
   ]
  },
  {
   "cell_type": "code",
   "execution_count": 63,
   "metadata": {},
   "outputs": [],
   "source": [
    "data[\"Total\"] = data[\"Quantity\"] * data[\"Price\"]\n",
    "customer_orders = data.groupby(\"Customer Number\").sum()[[\"Quantity\",\"Total\"]]"
   ]
  },
  {
   "cell_type": "code",
   "execution_count": 64,
   "metadata": {},
   "outputs": [],
   "source": [
    "customer_orders = customer_orders[customer_orders[\"Total\"]!=0]"
   ]
  },
  {
   "cell_type": "markdown",
   "metadata": {},
   "source": [
    "**Join Quantities and Totals on clubs**"
   ]
  },
  {
   "cell_type": "code",
   "execution_count": 66,
   "metadata": {},
   "outputs": [],
   "source": [
    "clubs = clubs.merge(customer_orders,how=\"left\",left_on=\"Customer Number\",right_on=\"Customer Number\")"
   ]
  },
  {
   "cell_type": "code",
   "execution_count": 69,
   "metadata": {},
   "outputs": [
    {
     "data": {
      "text/html": [
       "<div>\n",
       "<style scoped>\n",
       "    .dataframe tbody tr th:only-of-type {\n",
       "        vertical-align: middle;\n",
       "    }\n",
       "\n",
       "    .dataframe tbody tr th {\n",
       "        vertical-align: top;\n",
       "    }\n",
       "\n",
       "    .dataframe thead th {\n",
       "        text-align: right;\n",
       "    }\n",
       "</style>\n",
       "<table border=\"1\" class=\"dataframe\">\n",
       "  <thead>\n",
       "    <tr style=\"text-align: right;\">\n",
       "      <th></th>\n",
       "      <th>Club Status</th>\n",
       "      <th>Bill Birth Date</th>\n",
       "      <th>Ship Birth Date</th>\n",
       "      <th>Ship City</th>\n",
       "      <th>Ship State Code</th>\n",
       "      <th>Ship Zip</th>\n",
       "      <th>Pickup Location</th>\n",
       "      <th>Cancel Date</th>\n",
       "      <th>Cancel Reason</th>\n",
       "      <th>Last Processed Date</th>\n",
       "      <th>...</th>\n",
       "      <th>cancel</th>\n",
       "      <th>signup</th>\n",
       "      <th>clubLength</th>\n",
       "      <th>Customer No.</th>\n",
       "      <th>Number Of Transactions</th>\n",
       "      <th>Lifetime Value_y</th>\n",
       "      <th>Last Order Date_y</th>\n",
       "      <th>Last Order Amount</th>\n",
       "      <th>Quantity</th>\n",
       "      <th>Total</th>\n",
       "    </tr>\n",
       "  </thead>\n",
       "  <tbody>\n",
       "    <tr>\n",
       "      <th>1486</th>\n",
       "      <td>Active</td>\n",
       "      <td>1/1/00</td>\n",
       "      <td>1/1/00</td>\n",
       "      <td>Union City</td>\n",
       "      <td>CA</td>\n",
       "      <td>94587</td>\n",
       "      <td>NaN</td>\n",
       "      <td>NaN</td>\n",
       "      <td>NaN</td>\n",
       "      <td>2/4/19</td>\n",
       "      <td>...</td>\n",
       "      <td>[nan]</td>\n",
       "      <td>[12, 16]</td>\n",
       "      <td>3.250000</td>\n",
       "      <td>18993</td>\n",
       "      <td>14.0</td>\n",
       "      <td>$1,728.42</td>\n",
       "      <td>2/4/19</td>\n",
       "      <td>$172.44</td>\n",
       "      <td>NaN</td>\n",
       "      <td>NaN</td>\n",
       "    </tr>\n",
       "    <tr>\n",
       "      <th>1267</th>\n",
       "      <td>Cancelled</td>\n",
       "      <td>4/12/76</td>\n",
       "      <td>4/12/76</td>\n",
       "      <td>Novato</td>\n",
       "      <td>CA</td>\n",
       "      <td>94949</td>\n",
       "      <td>Tank Garage Winery</td>\n",
       "      <td>9/8/17</td>\n",
       "      <td>Cutting Expenses/Lost Job</td>\n",
       "      <td>11/21/16</td>\n",
       "      <td>...</td>\n",
       "      <td>[9, 17]</td>\n",
       "      <td>[9, 16]</td>\n",
       "      <td>1.000000</td>\n",
       "      <td>17562</td>\n",
       "      <td>7.0</td>\n",
       "      <td>$1,046.66</td>\n",
       "      <td>9/3/17</td>\n",
       "      <td>$126.07</td>\n",
       "      <td>38.0</td>\n",
       "      <td>1158.15</td>\n",
       "    </tr>\n",
       "    <tr>\n",
       "      <th>2157</th>\n",
       "      <td>Active</td>\n",
       "      <td>9/11/84</td>\n",
       "      <td>9/11/84</td>\n",
       "      <td>Petaluma</td>\n",
       "      <td>CA</td>\n",
       "      <td>94952</td>\n",
       "      <td>NaN</td>\n",
       "      <td>NaN</td>\n",
       "      <td>NaN</td>\n",
       "      <td>2/4/19</td>\n",
       "      <td>...</td>\n",
       "      <td>[nan]</td>\n",
       "      <td>[8, 17]</td>\n",
       "      <td>2.583333</td>\n",
       "      <td>22223</td>\n",
       "      <td>13.0</td>\n",
       "      <td>$1,379.78</td>\n",
       "      <td>2/17/19</td>\n",
       "      <td>$31.03</td>\n",
       "      <td>NaN</td>\n",
       "      <td>NaN</td>\n",
       "    </tr>\n",
       "    <tr>\n",
       "      <th>64</th>\n",
       "      <td>Active</td>\n",
       "      <td>8/7/48</td>\n",
       "      <td>8/7/48</td>\n",
       "      <td>Conyers</td>\n",
       "      <td>GA</td>\n",
       "      <td>30012</td>\n",
       "      <td>NaN</td>\n",
       "      <td>NaN</td>\n",
       "      <td>NaN</td>\n",
       "      <td>2/4/19</td>\n",
       "      <td>...</td>\n",
       "      <td>[nan]</td>\n",
       "      <td>[8, 14]</td>\n",
       "      <td>5.583333</td>\n",
       "      <td>7745</td>\n",
       "      <td>25.0</td>\n",
       "      <td>$5,072.00</td>\n",
       "      <td>2/4/19</td>\n",
       "      <td>$173.34</td>\n",
       "      <td>47.0</td>\n",
       "      <td>1855.80</td>\n",
       "    </tr>\n",
       "    <tr>\n",
       "      <th>833</th>\n",
       "      <td>Cancelled</td>\n",
       "      <td>8/21/77</td>\n",
       "      <td>8/21/77</td>\n",
       "      <td>niceville</td>\n",
       "      <td>FL</td>\n",
       "      <td>32578</td>\n",
       "      <td>NaN</td>\n",
       "      <td>9/30/16</td>\n",
       "      <td>No Reason Given</td>\n",
       "      <td>9/20/16</td>\n",
       "      <td>...</td>\n",
       "      <td>[9, 16]</td>\n",
       "      <td>[2, 16]</td>\n",
       "      <td>0.583333</td>\n",
       "      <td>14690</td>\n",
       "      <td>3.0</td>\n",
       "      <td>$339.66</td>\n",
       "      <td>9/20/16</td>\n",
       "      <td>$162.00</td>\n",
       "      <td>12.0</td>\n",
       "      <td>301.50</td>\n",
       "    </tr>\n",
       "    <tr>\n",
       "      <th>2450</th>\n",
       "      <td>Active</td>\n",
       "      <td>7/13/87</td>\n",
       "      <td>7/13/87</td>\n",
       "      <td>Chicago</td>\n",
       "      <td>IL</td>\n",
       "      <td>60654</td>\n",
       "      <td>NaN</td>\n",
       "      <td>NaN</td>\n",
       "      <td>NaN</td>\n",
       "      <td>2/4/19</td>\n",
       "      <td>...</td>\n",
       "      <td>[nan]</td>\n",
       "      <td>[11, 17]</td>\n",
       "      <td>2.333333</td>\n",
       "      <td>23329</td>\n",
       "      <td>11.0</td>\n",
       "      <td>$1,712.01</td>\n",
       "      <td>2/4/19</td>\n",
       "      <td>$172.13</td>\n",
       "      <td>NaN</td>\n",
       "      <td>NaN</td>\n",
       "    </tr>\n",
       "    <tr>\n",
       "      <th>1616</th>\n",
       "      <td>Cancelled</td>\n",
       "      <td>8/9/72</td>\n",
       "      <td>8/9/72</td>\n",
       "      <td>Moraga</td>\n",
       "      <td>CA</td>\n",
       "      <td>94556</td>\n",
       "      <td>NaN</td>\n",
       "      <td>1/29/19</td>\n",
       "      <td>Switched Club Level</td>\n",
       "      <td>12/3/18</td>\n",
       "      <td>...</td>\n",
       "      <td>[1, 19]</td>\n",
       "      <td>[12, 17]</td>\n",
       "      <td>2.083333</td>\n",
       "      <td>19712</td>\n",
       "      <td>22.0</td>\n",
       "      <td>$3,584.73</td>\n",
       "      <td>2/4/19</td>\n",
       "      <td>$143.48</td>\n",
       "      <td>NaN</td>\n",
       "      <td>NaN</td>\n",
       "    </tr>\n",
       "    <tr>\n",
       "      <th>2173</th>\n",
       "      <td>Active</td>\n",
       "      <td>2/7/91</td>\n",
       "      <td>1/1/90</td>\n",
       "      <td>Houston</td>\n",
       "      <td>TX</td>\n",
       "      <td>77019</td>\n",
       "      <td>NaN</td>\n",
       "      <td>NaN</td>\n",
       "      <td>NaN</td>\n",
       "      <td>2/4/19</td>\n",
       "      <td>...</td>\n",
       "      <td>[nan]</td>\n",
       "      <td>[8, 17]</td>\n",
       "      <td>2.583333</td>\n",
       "      <td>22301</td>\n",
       "      <td>11.0</td>\n",
       "      <td>$1,627.01</td>\n",
       "      <td>2/8/19</td>\n",
       "      <td>$31.66</td>\n",
       "      <td>NaN</td>\n",
       "      <td>NaN</td>\n",
       "    </tr>\n",
       "    <tr>\n",
       "      <th>2627</th>\n",
       "      <td>Active</td>\n",
       "      <td>11/28/88</td>\n",
       "      <td>11/28/88</td>\n",
       "      <td>Anchorage</td>\n",
       "      <td>AK</td>\n",
       "      <td>99507</td>\n",
       "      <td>NaN</td>\n",
       "      <td>NaN</td>\n",
       "      <td>NaN</td>\n",
       "      <td>2/4/19</td>\n",
       "      <td>...</td>\n",
       "      <td>[nan]</td>\n",
       "      <td>[1, 18]</td>\n",
       "      <td>1.166667</td>\n",
       "      <td>24112</td>\n",
       "      <td>7.0</td>\n",
       "      <td>$1,090.97</td>\n",
       "      <td>2/4/19</td>\n",
       "      <td>$198.50</td>\n",
       "      <td>NaN</td>\n",
       "      <td>NaN</td>\n",
       "    </tr>\n",
       "    <tr>\n",
       "      <th>3184</th>\n",
       "      <td>Cancelled</td>\n",
       "      <td>8/20/73</td>\n",
       "      <td>8/20/73</td>\n",
       "      <td>Wichita</td>\n",
       "      <td>KS</td>\n",
       "      <td>67204-1852</td>\n",
       "      <td>NaN</td>\n",
       "      <td>7/3/18</td>\n",
       "      <td>Testing/Accident</td>\n",
       "      <td>NaN</td>\n",
       "      <td>...</td>\n",
       "      <td>[7, 18]</td>\n",
       "      <td>[6, 18]</td>\n",
       "      <td>0.083333</td>\n",
       "      <td>27838</td>\n",
       "      <td>13.0</td>\n",
       "      <td>$2,374.86</td>\n",
       "      <td>2/19/19</td>\n",
       "      <td>$86.54</td>\n",
       "      <td>NaN</td>\n",
       "      <td>NaN</td>\n",
       "    </tr>\n",
       "  </tbody>\n",
       "</table>\n",
       "<p>10 rows × 29 columns</p>\n",
       "</div>"
      ],
      "text/plain": [
       "     Club Status Bill Birth Date Ship Birth Date   Ship City Ship State Code  \\\n",
       "1486      Active          1/1/00          1/1/00  Union City              CA   \n",
       "1267   Cancelled         4/12/76         4/12/76      Novato              CA   \n",
       "2157      Active         9/11/84         9/11/84    Petaluma              CA   \n",
       "64        Active          8/7/48          8/7/48     Conyers              GA   \n",
       "833    Cancelled         8/21/77         8/21/77   niceville              FL   \n",
       "2450      Active         7/13/87         7/13/87     Chicago              IL   \n",
       "1616   Cancelled          8/9/72          8/9/72      Moraga              CA   \n",
       "2173      Active          2/7/91          1/1/90     Houston              TX   \n",
       "2627      Active        11/28/88        11/28/88   Anchorage              AK   \n",
       "3184   Cancelled         8/20/73         8/20/73     Wichita              KS   \n",
       "\n",
       "        Ship Zip     Pickup Location Cancel Date              Cancel Reason  \\\n",
       "1486       94587                 NaN         NaN                        NaN   \n",
       "1267       94949  Tank Garage Winery      9/8/17  Cutting Expenses/Lost Job   \n",
       "2157       94952                 NaN         NaN                        NaN   \n",
       "64         30012                 NaN         NaN                        NaN   \n",
       "833        32578                 NaN     9/30/16            No Reason Given   \n",
       "2450       60654                 NaN         NaN                        NaN   \n",
       "1616       94556                 NaN     1/29/19        Switched Club Level   \n",
       "2173       77019                 NaN         NaN                        NaN   \n",
       "2627       99507                 NaN         NaN                        NaN   \n",
       "3184  67204-1852                 NaN      7/3/18           Testing/Accident   \n",
       "\n",
       "     Last Processed Date  ...   cancel    signup  clubLength Customer No.  \\\n",
       "1486              2/4/19  ...    [nan]  [12, 16]    3.250000        18993   \n",
       "1267            11/21/16  ...  [9, 17]   [9, 16]    1.000000        17562   \n",
       "2157              2/4/19  ...    [nan]   [8, 17]    2.583333        22223   \n",
       "64                2/4/19  ...    [nan]   [8, 14]    5.583333         7745   \n",
       "833              9/20/16  ...  [9, 16]   [2, 16]    0.583333        14690   \n",
       "2450              2/4/19  ...    [nan]  [11, 17]    2.333333        23329   \n",
       "1616             12/3/18  ...  [1, 19]  [12, 17]    2.083333        19712   \n",
       "2173              2/4/19  ...    [nan]   [8, 17]    2.583333        22301   \n",
       "2627              2/4/19  ...    [nan]   [1, 18]    1.166667        24112   \n",
       "3184                 NaN  ...  [7, 18]   [6, 18]    0.083333        27838   \n",
       "\n",
       "      Number Of Transactions Lifetime Value_y  Last Order Date_y  \\\n",
       "1486                    14.0       $1,728.42              2/4/19   \n",
       "1267                     7.0       $1,046.66              9/3/17   \n",
       "2157                    13.0       $1,379.78             2/17/19   \n",
       "64                      25.0       $5,072.00              2/4/19   \n",
       "833                      3.0         $339.66             9/20/16   \n",
       "2450                    11.0       $1,712.01              2/4/19   \n",
       "1616                    22.0       $3,584.73              2/4/19   \n",
       "2173                    11.0       $1,627.01              2/8/19   \n",
       "2627                     7.0       $1,090.97              2/4/19   \n",
       "3184                    13.0       $2,374.86             2/19/19   \n",
       "\n",
       "      Last Order Amount  Quantity    Total  \n",
       "1486           $172.44        NaN      NaN  \n",
       "1267           $126.07       38.0  1158.15  \n",
       "2157            $31.03        NaN      NaN  \n",
       "64             $173.34       47.0  1855.80  \n",
       "833            $162.00       12.0   301.50  \n",
       "2450           $172.13        NaN      NaN  \n",
       "1616           $143.48        NaN      NaN  \n",
       "2173            $31.66        NaN      NaN  \n",
       "2627           $198.50        NaN      NaN  \n",
       "3184            $86.54        NaN      NaN  \n",
       "\n",
       "[10 rows x 29 columns]"
      ]
     },
     "execution_count": 69,
     "metadata": {},
     "output_type": "execute_result"
    }
   ],
   "source": [
    "clubs.sample(10)"
   ]
  },
  {
   "cell_type": "code",
   "execution_count": 55,
   "metadata": {
    "scrolled": true
   },
   "outputs": [
    {
     "data": {
      "text/html": [
       "<div>\n",
       "<style scoped>\n",
       "    .dataframe tbody tr th:only-of-type {\n",
       "        vertical-align: middle;\n",
       "    }\n",
       "\n",
       "    .dataframe tbody tr th {\n",
       "        vertical-align: top;\n",
       "    }\n",
       "\n",
       "    .dataframe thead th {\n",
       "        text-align: right;\n",
       "    }\n",
       "</style>\n",
       "<table border=\"1\" class=\"dataframe\">\n",
       "  <thead>\n",
       "    <tr style=\"text-align: right;\">\n",
       "      <th></th>\n",
       "      <th>OrderNumber</th>\n",
       "      <th>Customer Number</th>\n",
       "      <th>OrderCompletedDate</th>\n",
       "      <th>orderstatus</th>\n",
       "      <th>ordertype</th>\n",
       "      <th>BillCustomerNumber</th>\n",
       "      <th>ShipStateCode</th>\n",
       "      <th>BillBirthDate</th>\n",
       "      <th>ShipZipCode</th>\n",
       "      <th>BillCity</th>\n",
       "      <th>BillZipCode</th>\n",
       "      <th>isPickup</th>\n",
       "      <th>Quantity</th>\n",
       "      <th>ProductType</th>\n",
       "      <th>ProductSKU</th>\n",
       "      <th>originalPrice</th>\n",
       "      <th>Price</th>\n",
       "    </tr>\n",
       "  </thead>\n",
       "  <tbody>\n",
       "    <tr>\n",
       "      <th>0</th>\n",
       "      <td>48788</td>\n",
       "      <td>1008</td>\n",
       "      <td>2017-09-23 15:42:57</td>\n",
       "      <td>Completed</td>\n",
       "      <td>POS</td>\n",
       "      <td>NaN</td>\n",
       "      <td>CA</td>\n",
       "      <td>NaN</td>\n",
       "      <td>94515</td>\n",
       "      <td>Calistoga</td>\n",
       "      <td>94515</td>\n",
       "      <td>True</td>\n",
       "      <td>1</td>\n",
       "      <td>Wine</td>\n",
       "      <td>44.15.750.TK.RB.TE</td>\n",
       "      <td>45.0</td>\n",
       "      <td>31.5</td>\n",
       "    </tr>\n",
       "    <tr>\n",
       "      <th>1</th>\n",
       "      <td>48788</td>\n",
       "      <td>1008</td>\n",
       "      <td>2017-09-23 15:42:57</td>\n",
       "      <td>Completed</td>\n",
       "      <td>POS</td>\n",
       "      <td>NaN</td>\n",
       "      <td>CA</td>\n",
       "      <td>NaN</td>\n",
       "      <td>94515</td>\n",
       "      <td>Calistoga</td>\n",
       "      <td>94515</td>\n",
       "      <td>True</td>\n",
       "      <td>1</td>\n",
       "      <td>Product</td>\n",
       "      <td>CL.HT.3200.BK</td>\n",
       "      <td>20.0</td>\n",
       "      <td>14.0</td>\n",
       "    </tr>\n",
       "    <tr>\n",
       "      <th>2</th>\n",
       "      <td>48788</td>\n",
       "      <td>1008</td>\n",
       "      <td>2017-09-23 15:42:57</td>\n",
       "      <td>Completed</td>\n",
       "      <td>POS</td>\n",
       "      <td>NaN</td>\n",
       "      <td>CA</td>\n",
       "      <td>NaN</td>\n",
       "      <td>94515</td>\n",
       "      <td>Calistoga</td>\n",
       "      <td>94515</td>\n",
       "      <td>True</td>\n",
       "      <td>2</td>\n",
       "      <td>Wine</td>\n",
       "      <td>47.15.750.TK.RB.LYS</td>\n",
       "      <td>50.0</td>\n",
       "      <td>35.0</td>\n",
       "    </tr>\n",
       "    <tr>\n",
       "      <th>3</th>\n",
       "      <td>48788</td>\n",
       "      <td>1008</td>\n",
       "      <td>2017-09-23 15:42:57</td>\n",
       "      <td>Completed</td>\n",
       "      <td>POS</td>\n",
       "      <td>NaN</td>\n",
       "      <td>CA</td>\n",
       "      <td>NaN</td>\n",
       "      <td>94515</td>\n",
       "      <td>Calistoga</td>\n",
       "      <td>94515</td>\n",
       "      <td>True</td>\n",
       "      <td>5</td>\n",
       "      <td>Product</td>\n",
       "      <td>TK.GC</td>\n",
       "      <td>0.0</td>\n",
       "      <td>0.0</td>\n",
       "    </tr>\n",
       "    <tr>\n",
       "      <th>4</th>\n",
       "      <td>48788</td>\n",
       "      <td>1008</td>\n",
       "      <td>2017-09-23 15:42:57</td>\n",
       "      <td>Completed</td>\n",
       "      <td>POS</td>\n",
       "      <td>NaN</td>\n",
       "      <td>CA</td>\n",
       "      <td>NaN</td>\n",
       "      <td>94515</td>\n",
       "      <td>Calistoga</td>\n",
       "      <td>94515</td>\n",
       "      <td>True</td>\n",
       "      <td>2</td>\n",
       "      <td>Wine</td>\n",
       "      <td>44.14.750.TK.CS.RB</td>\n",
       "      <td>55.0</td>\n",
       "      <td>38.5</td>\n",
       "    </tr>\n",
       "    <tr>\n",
       "      <th>5</th>\n",
       "      <td>48788</td>\n",
       "      <td>1008</td>\n",
       "      <td>2017-09-23 15:42:57</td>\n",
       "      <td>Completed</td>\n",
       "      <td>POS</td>\n",
       "      <td>NaN</td>\n",
       "      <td>CA</td>\n",
       "      <td>NaN</td>\n",
       "      <td>94515</td>\n",
       "      <td>Calistoga</td>\n",
       "      <td>94515</td>\n",
       "      <td>True</td>\n",
       "      <td>4</td>\n",
       "      <td>Product</td>\n",
       "      <td>TK.GCIN</td>\n",
       "      <td>0.0</td>\n",
       "      <td>0.0</td>\n",
       "    </tr>\n",
       "    <tr>\n",
       "      <th>6</th>\n",
       "      <td>104967</td>\n",
       "      <td>5002</td>\n",
       "      <td>2019-03-14 18:43:46</td>\n",
       "      <td>Completed</td>\n",
       "      <td>Promo</td>\n",
       "      <td>5002.0</td>\n",
       "      <td>CA</td>\n",
       "      <td>1920-01-01</td>\n",
       "      <td>94515</td>\n",
       "      <td>Calistoga</td>\n",
       "      <td>94515</td>\n",
       "      <td>True</td>\n",
       "      <td>1</td>\n",
       "      <td>Wine</td>\n",
       "      <td>78.17.750.TK.DFH.RW</td>\n",
       "      <td>60.0</td>\n",
       "      <td>0.0</td>\n",
       "    </tr>\n",
       "    <tr>\n",
       "      <th>7</th>\n",
       "      <td>104967</td>\n",
       "      <td>5002</td>\n",
       "      <td>2019-03-14 18:43:46</td>\n",
       "      <td>Completed</td>\n",
       "      <td>Promo</td>\n",
       "      <td>5002.0</td>\n",
       "      <td>CA</td>\n",
       "      <td>1920-01-01</td>\n",
       "      <td>94515</td>\n",
       "      <td>Calistoga</td>\n",
       "      <td>94515</td>\n",
       "      <td>True</td>\n",
       "      <td>1</td>\n",
       "      <td>Wine</td>\n",
       "      <td>85.16.750.TK.LN.RW</td>\n",
       "      <td>40.0</td>\n",
       "      <td>0.0</td>\n",
       "    </tr>\n",
       "    <tr>\n",
       "      <th>8</th>\n",
       "      <td>104033</td>\n",
       "      <td>5002</td>\n",
       "      <td>2019-03-01 17:53:22</td>\n",
       "      <td>Completed</td>\n",
       "      <td>Promo</td>\n",
       "      <td>5002.0</td>\n",
       "      <td>CA</td>\n",
       "      <td>1920-01-01</td>\n",
       "      <td>94515</td>\n",
       "      <td>Calistoga</td>\n",
       "      <td>94515</td>\n",
       "      <td>True</td>\n",
       "      <td>1</td>\n",
       "      <td>Wine</td>\n",
       "      <td>85.16.750.TK.LN.RW</td>\n",
       "      <td>40.0</td>\n",
       "      <td>0.0</td>\n",
       "    </tr>\n",
       "    <tr>\n",
       "      <th>9</th>\n",
       "      <td>103858</td>\n",
       "      <td>5002</td>\n",
       "      <td>2019-02-27 18:35:11</td>\n",
       "      <td>Completed</td>\n",
       "      <td>POS</td>\n",
       "      <td>5002.0</td>\n",
       "      <td>CA</td>\n",
       "      <td>1920-01-01</td>\n",
       "      <td>94515</td>\n",
       "      <td>Calistoga</td>\n",
       "      <td>94515</td>\n",
       "      <td>True</td>\n",
       "      <td>1</td>\n",
       "      <td>Wine</td>\n",
       "      <td>85.16.750.TK.LN.RW</td>\n",
       "      <td>40.0</td>\n",
       "      <td>0.0</td>\n",
       "    </tr>\n",
       "  </tbody>\n",
       "</table>\n",
       "</div>"
      ],
      "text/plain": [
       "   OrderNumber  Customer Number   OrderCompletedDate orderstatus ordertype  \\\n",
       "0        48788             1008  2017-09-23 15:42:57   Completed       POS   \n",
       "1        48788             1008  2017-09-23 15:42:57   Completed       POS   \n",
       "2        48788             1008  2017-09-23 15:42:57   Completed       POS   \n",
       "3        48788             1008  2017-09-23 15:42:57   Completed       POS   \n",
       "4        48788             1008  2017-09-23 15:42:57   Completed       POS   \n",
       "5        48788             1008  2017-09-23 15:42:57   Completed       POS   \n",
       "6       104967             5002  2019-03-14 18:43:46   Completed     Promo   \n",
       "7       104967             5002  2019-03-14 18:43:46   Completed     Promo   \n",
       "8       104033             5002  2019-03-01 17:53:22   Completed     Promo   \n",
       "9       103858             5002  2019-02-27 18:35:11   Completed       POS   \n",
       "\n",
       "   BillCustomerNumber ShipStateCode BillBirthDate ShipZipCode   BillCity  \\\n",
       "0                 NaN            CA           NaN       94515  Calistoga   \n",
       "1                 NaN            CA           NaN       94515  Calistoga   \n",
       "2                 NaN            CA           NaN       94515  Calistoga   \n",
       "3                 NaN            CA           NaN       94515  Calistoga   \n",
       "4                 NaN            CA           NaN       94515  Calistoga   \n",
       "5                 NaN            CA           NaN       94515  Calistoga   \n",
       "6              5002.0            CA    1920-01-01       94515  Calistoga   \n",
       "7              5002.0            CA    1920-01-01       94515  Calistoga   \n",
       "8              5002.0            CA    1920-01-01       94515  Calistoga   \n",
       "9              5002.0            CA    1920-01-01       94515  Calistoga   \n",
       "\n",
       "  BillZipCode  isPickup  Quantity ProductType           ProductSKU  \\\n",
       "0       94515      True         1        Wine   44.15.750.TK.RB.TE   \n",
       "1       94515      True         1     Product        CL.HT.3200.BK   \n",
       "2       94515      True         2        Wine  47.15.750.TK.RB.LYS   \n",
       "3       94515      True         5     Product                TK.GC   \n",
       "4       94515      True         2        Wine   44.14.750.TK.CS.RB   \n",
       "5       94515      True         4     Product              TK.GCIN   \n",
       "6       94515      True         1        Wine  78.17.750.TK.DFH.RW   \n",
       "7       94515      True         1        Wine   85.16.750.TK.LN.RW   \n",
       "8       94515      True         1        Wine   85.16.750.TK.LN.RW   \n",
       "9       94515      True         1        Wine   85.16.750.TK.LN.RW   \n",
       "\n",
       "   originalPrice  Price  \n",
       "0           45.0   31.5  \n",
       "1           20.0   14.0  \n",
       "2           50.0   35.0  \n",
       "3            0.0    0.0  \n",
       "4           55.0   38.5  \n",
       "5            0.0    0.0  \n",
       "6           60.0    0.0  \n",
       "7           40.0    0.0  \n",
       "8           40.0    0.0  \n",
       "9           40.0    0.0  "
      ]
     },
     "execution_count": 55,
     "metadata": {},
     "output_type": "execute_result"
    }
   ],
   "source": [
    "data.head(10)"
   ]
  },
  {
   "cell_type": "code",
   "execution_count": 8,
   "metadata": {},
   "outputs": [
    {
     "name": "stdout",
     "output_type": "stream",
     "text": [
      "<class 'pandas.core.frame.DataFrame'>\n",
      "RangeIndex: 65499 entries, 0 to 65498\n",
      "Data columns (total 17 columns):\n",
      "OrderNumber           65499 non-null int64\n",
      "Customer Number       65499 non-null int64\n",
      "OrderCompletedDate    65499 non-null object\n",
      "orderstatus           65499 non-null object\n",
      "ordertype             65499 non-null object\n",
      "BillCustomerNumber    64609 non-null float64\n",
      "ShipStateCode         65356 non-null object\n",
      "BillBirthDate         44781 non-null object\n",
      "ShipZipCode           65356 non-null object\n",
      "BillCity              53068 non-null object\n",
      "BillZipCode           53267 non-null object\n",
      "isPickup              65499 non-null bool\n",
      "Quantity              65499 non-null int64\n",
      "ProductType           65499 non-null object\n",
      "ProductSKU            65499 non-null object\n",
      "originalPrice         65499 non-null float64\n",
      "Price                 65499 non-null float64\n",
      "dtypes: bool(1), float64(3), int64(3), object(10)\n",
      "memory usage: 8.1+ MB\n"
     ]
    }
   ],
   "source": [
    "data.info()"
   ]
  },
  {
   "cell_type": "markdown",
   "metadata": {},
   "source": [
    "**Cells with NaNs**\n",
    "```\n",
    "BillCustomerNumber    64609 non-null float64\n",
    "ShipStateCode         65356 non-null object\n",
    "BillBirthDate         44781 non-null object\n",
    "ShipZipCode           65356 non-null object\n",
    "BillCity              53068 non-null object\n",
    "BillZipCode           53267 non-null object\n",
    "```"
   ]
  },
  {
   "cell_type": "code",
   "execution_count": 10,
   "metadata": {},
   "outputs": [
    {
     "data": {
      "text/plain": [
       "21163.519999999997"
      ]
     },
     "execution_count": 10,
     "metadata": {},
     "output_type": "execute_result"
    }
   ],
   "source": [
    "( data[data[\"BillCustomerNumber\"].isna()][\"Quantity\"]*data[data[\"BillCustomerNumber\"].isna()][\"Price\"] ).sum()"
   ]
  },
  {
   "cell_type": "code",
   "execution_count": 11,
   "metadata": {},
   "outputs": [
    {
     "data": {
      "text/plain": [
       "2552475.26"
      ]
     },
     "execution_count": 11,
     "metadata": {},
     "output_type": "execute_result"
    }
   ],
   "source": [
    "( data[~data[\"BillCustomerNumber\"].isna()][\"Quantity\"]*data[~data[\"BillCustomerNumber\"].isna()][\"Price\"] ).sum()"
   ]
  },
  {
   "cell_type": "code",
   "execution_count": null,
   "metadata": {},
   "outputs": [],
   "source": []
  },
  {
   "cell_type": "code",
   "execution_count": null,
   "metadata": {},
   "outputs": [],
   "source": []
  },
  {
   "cell_type": "code",
   "execution_count": null,
   "metadata": {},
   "outputs": [],
   "source": []
  },
  {
   "cell_type": "code",
   "execution_count": null,
   "metadata": {},
   "outputs": [],
   "source": []
  },
  {
   "cell_type": "code",
   "execution_count": null,
   "metadata": {},
   "outputs": [],
   "source": []
  }
 ],
 "metadata": {
  "kernelspec": {
   "display_name": "Python 3",
   "language": "python",
   "name": "python3"
  },
  "language_info": {
   "codemirror_mode": {
    "name": "ipython",
    "version": 3
   },
   "file_extension": ".py",
   "mimetype": "text/x-python",
   "name": "python",
   "nbconvert_exporter": "python",
   "pygments_lexer": "ipython3",
   "version": "3.6.7"
  }
 },
 "nbformat": 4,
 "nbformat_minor": 2
}
